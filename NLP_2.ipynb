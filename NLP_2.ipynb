{
 "cells": [
  {
   "cell_type": "markdown",
   "metadata": {},
   "source": [
    "# Topic Model - Basics /a guided topic model approach\n",
    " Review -- Topics:\n",
    " -product related\n",
    " -service related (delivery was very slow)\n",
    " -product specific topics (about the cable component, other components)\n",
    " ..."
   ]
  },
  {
   "cell_type": "code",
   "execution_count": 1,
   "metadata": {},
   "outputs": [
    {
     "name": "stdout",
     "output_type": "stream",
     "text": [
      "Collecting gensim\n",
      "  Downloading gensim-4.2.0-cp39-cp39-win_amd64.whl (23.9 MB)\n",
      "     --------------------------------------- 23.9/23.9 MB 21.1 MB/s eta 0:00:00\n",
      "Requirement already satisfied: numpy>=1.17.0 in c:\\programdata\\anaconda3\\lib\\site-packages (from gensim) (1.21.6)\n",
      "Requirement already satisfied: smart-open>=1.8.1 in c:\\programdata\\anaconda3\\lib\\site-packages (from gensim) (5.2.1)\n",
      "Collecting Cython==0.29.28\n",
      "  Downloading Cython-0.29.28-py2.py3-none-any.whl (983 kB)\n",
      "     ------------------------------------- 983.8/983.8 kB 31.4 MB/s eta 0:00:00\n",
      "Requirement already satisfied: scipy>=0.18.1 in c:\\programdata\\anaconda3\\lib\\site-packages (from gensim) (1.8.0)\n",
      "Installing collected packages: Cython, gensim\n",
      "  Attempting uninstall: Cython\n",
      "    Found existing installation: Cython 0.29.32\n",
      "    Uninstalling Cython-0.29.32:\n",
      "      Successfully uninstalled Cython-0.29.32\n",
      "Successfully installed Cython-0.29.28 gensim-4.2.0\n"
     ]
    },
    {
     "name": "stderr",
     "output_type": "stream",
     "text": [
      "WARNING: Ignoring invalid distribution -atplotlib (c:\\programdata\\anaconda3\\lib\\site-packages)\n",
      "WARNING: Ignoring invalid distribution -atplotlib (c:\\programdata\\anaconda3\\lib\\site-packages)\n",
      "WARNING: Ignoring invalid distribution -atplotlib (c:\\programdata\\anaconda3\\lib\\site-packages)\n",
      "    WARNING: Ignoring invalid distribution -atplotlib (c:\\programdata\\anaconda3\\lib\\site-packages)\n",
      "WARNING: Ignoring invalid distribution -atplotlib (c:\\programdata\\anaconda3\\lib\\site-packages)\n",
      "WARNING: Ignoring invalid distribution -atplotlib (c:\\programdata\\anaconda3\\lib\\site-packages)\n",
      "WARNING: Ignoring invalid distribution -atplotlib (c:\\programdata\\anaconda3\\lib\\site-packages)\n",
      "WARNING: Ignoring invalid distribution -atplotlib (c:\\programdata\\anaconda3\\lib\\site-packages)\n",
      "WARNING: Ignoring invalid distribution -atplotlib (c:\\programdata\\anaconda3\\lib\\site-packages)\n"
     ]
    }
   ],
   "source": [
    "! pip install gensim"
   ]
  },
  {
   "cell_type": "code",
   "execution_count": 2,
   "metadata": {},
   "outputs": [],
   "source": [
    "import gensim"
   ]
  },
  {
   "cell_type": "code",
   "execution_count": 3,
   "metadata": {},
   "outputs": [
    {
     "data": {
      "text/plain": [
       "'4.2.0'"
      ]
     },
     "execution_count": 3,
     "metadata": {},
     "output_type": "execute_result"
    }
   ],
   "source": [
    "gensim.__version__"
   ]
  },
  {
   "cell_type": "code",
   "execution_count": 4,
   "metadata": {},
   "outputs": [],
   "source": [
    "from gensim import corpora, models"
   ]
  },
  {
   "cell_type": "code",
   "execution_count": 6,
   "metadata": {},
   "outputs": [],
   "source": [
    "ThreeDocuments = [[\"a\", \"b\", \"c\", \"a\", \"b\", \"c\"],\n",
    "                  [\"d\", \"e\", \"f\", \"d\", \"e\", \"f\"],\n",
    "                  [\"g\", \"h\", \"i\", \"h\", \"i\", \"i\"]]\n"
   ]
  },
  {
   "cell_type": "code",
   "execution_count": 43,
   "metadata": {},
   "outputs": [],
   "source": [
    "ThreeDocuments= [[\"So\",\"there\",\"is\",\"no\",\"way\",\"for\",\"me\",\"to\",\"plug\",\"it \",\"in\",\"here\",\"in\",\"the\",\"US\",\"unless\",\"I\",\"go\",\"by\",\"a\",\"converter\"],\n",
    "[\"Good\",\"case\",\",\",\"Excellent\",\"value\",\".\"],\n",
    "[\"Great\",\"for\",\"the\",\"jawbone\",\".\"]]"
   ]
  },
  {
   "cell_type": "markdown",
   "metadata": {},
   "source": [
    "# Keyword extraction- simple ans short with gensim"
   ]
  },
  {
   "cell_type": "code",
   "execution_count": 44,
   "metadata": {},
   "outputs": [],
   "source": [
    "dictionary_LDA = gensim.corpora.Dictionary(ThreeDocuments)"
   ]
  },
  {
   "cell_type": "code",
   "execution_count": 45,
   "metadata": {},
   "outputs": [
    {
     "data": {
      "text/plain": [
       "['__abstractmethods__',\n",
       " '__class__',\n",
       " '__class_getitem__',\n",
       " '__contains__',\n",
       " '__delattr__',\n",
       " '__dict__',\n",
       " '__dir__',\n",
       " '__doc__',\n",
       " '__eq__',\n",
       " '__format__',\n",
       " '__ge__',\n",
       " '__getattribute__',\n",
       " '__getitem__',\n",
       " '__gt__',\n",
       " '__hash__',\n",
       " '__init__',\n",
       " '__init_subclass__',\n",
       " '__iter__',\n",
       " '__le__',\n",
       " '__len__',\n",
       " '__lt__',\n",
       " '__module__',\n",
       " '__ne__',\n",
       " '__new__',\n",
       " '__reduce__',\n",
       " '__reduce_ex__',\n",
       " '__repr__',\n",
       " '__reversed__',\n",
       " '__setattr__',\n",
       " '__sizeof__',\n",
       " '__slots__',\n",
       " '__str__',\n",
       " '__subclasshook__',\n",
       " '__weakref__',\n",
       " '_abc_impl',\n",
       " '_adapt_by_suffix',\n",
       " '_load_specials',\n",
       " '_save_specials',\n",
       " '_smart_save',\n",
       " 'add_documents',\n",
       " 'add_lifecycle_event',\n",
       " 'cfs',\n",
       " 'compactify',\n",
       " 'dfs',\n",
       " 'doc2bow',\n",
       " 'doc2idx',\n",
       " 'filter_extremes',\n",
       " 'filter_n_most_frequent',\n",
       " 'filter_tokens',\n",
       " 'from_corpus',\n",
       " 'from_documents',\n",
       " 'get',\n",
       " 'id2token',\n",
       " 'items',\n",
       " 'iteritems',\n",
       " 'iterkeys',\n",
       " 'itervalues',\n",
       " 'keys',\n",
       " 'lifecycle_events',\n",
       " 'load',\n",
       " 'load_from_text',\n",
       " 'merge_with',\n",
       " 'most_common',\n",
       " 'num_docs',\n",
       " 'num_nnz',\n",
       " 'num_pos',\n",
       " 'patch_with_special_tokens',\n",
       " 'save',\n",
       " 'save_as_text',\n",
       " 'token2id',\n",
       " 'values']"
      ]
     },
     "execution_count": 45,
     "metadata": {},
     "output_type": "execute_result"
    }
   ],
   "source": [
    "#check the object\n",
    "dir(dictionary_LDA)"
   ]
  },
  {
   "cell_type": "code",
   "execution_count": 18,
   "metadata": {},
   "outputs": [],
   "source": [
    "del ldaModel"
   ]
  },
  {
   "cell_type": "code",
   "execution_count": 46,
   "metadata": {},
   "outputs": [],
   "source": [
    "# build the corpus\n",
    "corpus= [dictionary_LDA.doc2bow(list_of_tokens) for list_of_tokens in ThreeDocuments]\n"
   ]
  },
  {
   "cell_type": "code",
   "execution_count": 47,
   "metadata": {},
   "outputs": [
    {
     "data": {
      "text/plain": [
       "[[(0, 1),\n",
       "  (1, 1),\n",
       "  (2, 1),\n",
       "  (3, 1),\n",
       "  (4, 1),\n",
       "  (5, 1),\n",
       "  (6, 1),\n",
       "  (7, 1),\n",
       "  (8, 1),\n",
       "  (9, 2),\n",
       "  (10, 1),\n",
       "  (11, 1),\n",
       "  (12, 1),\n",
       "  (13, 1),\n",
       "  (14, 1),\n",
       "  (15, 1),\n",
       "  (16, 1),\n",
       "  (17, 1),\n",
       "  (18, 1),\n",
       "  (19, 1)],\n",
       " [(20, 1), (21, 1), (22, 1), (23, 1), (24, 1), (25, 1)],\n",
       " [(6, 1), (15, 1), (21, 1), (26, 1), (27, 1)]]"
      ]
     },
     "execution_count": 47,
     "metadata": {},
     "output_type": "execute_result"
    }
   ],
   "source": [
    "corpus"
   ]
  },
  {
   "cell_type": "markdown",
   "metadata": {},
   "source": [
    "### LDA: number of topics"
   ]
  },
  {
   "cell_type": "code",
   "execution_count": 48,
   "metadata": {},
   "outputs": [],
   "source": [
    "numberOfTopics = 3"
   ]
  },
  {
   "cell_type": "code",
   "execution_count": 49,
   "metadata": {},
   "outputs": [],
   "source": [
    "ldaModel = gensim.models.LdaModel(corpus, num_topics=numberOfTopics, \\\n",
    "                                  id2word=dictionary_LDA, \\\n",
    "                                  passes=30, alpha=[0.01]*numberOfTopics, \\\n",
    "                                  eta=[0.01]*len(dictionary_LDA.keys()))\n"
   ]
  },
  {
   "cell_type": "code",
   "execution_count": 50,
   "metadata": {},
   "outputs": [
    {
     "data": {
      "text/plain": [
       "[(0,\n",
       "  '0.036*\"the\" + 0.036*\"for\" + 0.036*\"US\" + 0.036*\"by\" + 0.036*\"plug\" + 0.036*\"I\" + 0.036*\"there\" + 0.036*\"to\" + 0.036*\"unless\" + 0.036*\"way\" + 0.036*\",\" + 0.036*\".\" + 0.036*\"Excellent\" + 0.036*\"Good\" + 0.036*\"case\" + 0.036*\"value\" + 0.036*\"Great\" + 0.036*\"no\" + 0.036*\"a\" + 0.036*\"go\"'),\n",
       " (1,\n",
       "  '0.074*\"in\" + 0.037*\"US\" + 0.037*\"for\" + 0.037*\"converter\" + 0.037*\"plug\" + 0.037*\"I\" + 0.037*\"there\" + 0.037*\"to\" + 0.037*\"unless\" + 0.037*\"the\" + 0.037*\"way\" + 0.037*\",\" + 0.037*\".\" + 0.037*\"Excellent\" + 0.037*\"Good\" + 0.037*\"case\" + 0.037*\"value\" + 0.037*\"no\" + 0.037*\"a\" + 0.037*\"by\"'),\n",
       " (2,\n",
       "  '0.191*\"the\" + 0.191*\"jawbone\" + 0.191*\"Great\" + 0.191*\"for\" + 0.191*\".\" + 0.002*\"go\" + 0.002*\"US\" + 0.002*\"by\" + 0.002*\"I\" + 0.002*\"there\" + 0.002*\"to\" + 0.002*\",\" + 0.002*\"way\" + 0.002*\"a\" + 0.002*\"Excellent\" + 0.002*\"Good\" + 0.002*\"case\" + 0.002*\"value\" + 0.002*\"unless\" + 0.002*\"here\"')]"
      ]
     },
     "execution_count": 50,
     "metadata": {},
     "output_type": "execute_result"
    }
   ],
   "source": [
    "ldaModel.show_topics(formatted=True, num_topics=numberOfTopics,num_words=20)"
   ]
  },
  {
   "cell_type": "markdown",
   "metadata": {},
   "source": [
    "## prediction\n",
    "new customer writes a review, and you want the topics in it automatically extraced  "
   ]
  },
  {
   "cell_type": "code",
   "execution_count": 24,
   "metadata": {},
   "outputs": [],
   "source": [
    "NewCustomerReview = [[\"a\", \"b\", \"a\"]]\n"
   ]
  },
  {
   "cell_type": "code",
   "execution_count": 26,
   "metadata": {},
   "outputs": [],
   "source": [
    "corpusNewCustomerReview = [dictionary_LDA.doc2bow(list_of_tokens) for list_of_tokens in NewCustomerReview]"
   ]
  },
  {
   "cell_type": "code",
   "execution_count": 27,
   "metadata": {},
   "outputs": [
    {
     "data": {
      "text/plain": [
       "[[(0, 2), (1, 1)]]"
      ]
     },
     "execution_count": 27,
     "metadata": {},
     "output_type": "execute_result"
    }
   ],
   "source": [
    "corpusNewCustomerReview"
   ]
  },
  {
   "cell_type": "code",
   "execution_count": 29,
   "metadata": {},
   "outputs": [
    {
     "data": {
      "text/plain": [
       "[[(1, 0.9933993)]]"
      ]
     },
     "execution_count": 29,
     "metadata": {},
     "output_type": "execute_result"
    }
   ],
   "source": [
    "list(ldaModel.get_document_topics(corpusNewCustomerReview))"
   ]
  },
  {
   "cell_type": "markdown",
   "metadata": {},
   "source": [
    "## Visualize the results "
   ]
  },
  {
   "cell_type": "code",
   "execution_count": 31,
   "metadata": {},
   "outputs": [
    {
     "name": "stdout",
     "output_type": "stream",
     "text": [
      "Requirement already satisfied: pyLDAvis in c:\\programdata\\anaconda3\\lib\\site-packages (3.3.1)\n",
      "Requirement already satisfied: pandas>=1.2.0 in c:\\programdata\\anaconda3\\lib\\site-packages (from pyLDAvis) (1.4.4)\n",
      "Requirement already satisfied: scikit-learn in c:\\programdata\\anaconda3\\lib\\site-packages (from pyLDAvis) (1.1.3)\n",
      "Requirement already satisfied: future in c:\\programdata\\anaconda3\\lib\\site-packages (from pyLDAvis) (0.18.2)\n",
      "Requirement already satisfied: sklearn in c:\\programdata\\anaconda3\\lib\\site-packages (from pyLDAvis) (0.0)\n",
      "Requirement already satisfied: funcy in c:\\programdata\\anaconda3\\lib\\site-packages (from pyLDAvis) (1.17)\n",
      "Requirement already satisfied: gensim in c:\\programdata\\anaconda3\\lib\\site-packages (from pyLDAvis) (4.2.0)\n",
      "Requirement already satisfied: setuptools in c:\\programdata\\anaconda3\\lib\\site-packages (from pyLDAvis) (65.5.0)\n",
      "Requirement already satisfied: numexpr in c:\\programdata\\anaconda3\\lib\\site-packages (from pyLDAvis) (2.7.3)\n",
      "Requirement already satisfied: scipy in c:\\programdata\\anaconda3\\lib\\site-packages (from pyLDAvis) (1.8.0)\n",
      "Requirement already satisfied: numpy>=1.20.0 in c:\\programdata\\anaconda3\\lib\\site-packages (from pyLDAvis) (1.21.6)\n",
      "Requirement already satisfied: jinja2 in c:\\programdata\\anaconda3\\lib\\site-packages (from pyLDAvis) (3.1.2)\n",
      "Requirement already satisfied: joblib in c:\\programdata\\anaconda3\\lib\\site-packages (from pyLDAvis) (1.1.1)\n",
      "Requirement already satisfied: python-dateutil>=2.8.1 in c:\\users\\duygu\\appdata\\roaming\\python\\python39\\site-packages (from pandas>=1.2.0->pyLDAvis) (2.8.2)\n",
      "Requirement already satisfied: pytz>=2020.1 in c:\\programdata\\anaconda3\\lib\\site-packages (from pandas>=1.2.0->pyLDAvis) (2022.1)\n",
      "Requirement already satisfied: smart-open>=1.8.1 in c:\\programdata\\anaconda3\\lib\\site-packages (from gensim->pyLDAvis) (5.2.1)\n",
      "Requirement already satisfied: Cython==0.29.28 in c:\\programdata\\anaconda3\\lib\\site-packages (from gensim->pyLDAvis) (0.29.28)\n",
      "Requirement already satisfied: MarkupSafe>=2.0 in c:\\programdata\\anaconda3\\lib\\site-packages (from jinja2->pyLDAvis) (2.1.1)\n",
      "Requirement already satisfied: threadpoolctl>=2.0.0 in c:\\programdata\\anaconda3\\lib\\site-packages (from scikit-learn->pyLDAvis) (2.2.0)\n",
      "Requirement already satisfied: six>=1.5 in c:\\users\\duygu\\appdata\\roaming\\python\\python39\\site-packages (from python-dateutil>=2.8.1->pandas>=1.2.0->pyLDAvis) (1.16.0)\n"
     ]
    },
    {
     "name": "stderr",
     "output_type": "stream",
     "text": [
      "WARNING: Ignoring invalid distribution -atplotlib (c:\\programdata\\anaconda3\\lib\\site-packages)\n",
      "WARNING: Ignoring invalid distribution -atplotlib (c:\\programdata\\anaconda3\\lib\\site-packages)\n",
      "WARNING: Ignoring invalid distribution -atplotlib (c:\\programdata\\anaconda3\\lib\\site-packages)\n",
      "WARNING: Ignoring invalid distribution -atplotlib (c:\\programdata\\anaconda3\\lib\\site-packages)\n",
      "WARNING: Ignoring invalid distribution -atplotlib (c:\\programdata\\anaconda3\\lib\\site-packages)\n",
      "WARNING: Ignoring invalid distribution -atplotlib (c:\\programdata\\anaconda3\\lib\\site-packages)\n"
     ]
    }
   ],
   "source": [
    "! pip install pyLDAvis"
   ]
  },
  {
   "cell_type": "code",
   "execution_count": 86,
   "metadata": {},
   "outputs": [],
   "source": [
    "import pyLDAvis"
   ]
  },
  {
   "cell_type": "code",
   "execution_count": 87,
   "metadata": {},
   "outputs": [],
   "source": [
    "import gensim"
   ]
  },
  {
   "cell_type": "code",
   "execution_count": 91,
   "metadata": {},
   "outputs": [
    {
     "ename": "ModuleNotFoundError",
     "evalue": "No module named 'pyLDAvis.gensim'",
     "output_type": "error",
     "traceback": [
      "\u001b[1;31m---------------------------------------------------------------------------\u001b[0m",
      "\u001b[1;31mModuleNotFoundError\u001b[0m                       Traceback (most recent call last)",
      "Cell \u001b[1;32mIn [91], line 1\u001b[0m\n\u001b[1;32m----> 1\u001b[0m \u001b[39mimport\u001b[39;00m \u001b[39mpyLDAvis\u001b[39;00m\u001b[39m.\u001b[39;00m\u001b[39mgensim\u001b[39;00m\n",
      "\u001b[1;31mModuleNotFoundError\u001b[0m: No module named 'pyLDAvis.gensim'"
     ]
    }
   ],
   "source": [
    "import pyLDAvis.gensim"
   ]
  },
  {
   "cell_type": "code",
   "execution_count": 88,
   "metadata": {},
   "outputs": [],
   "source": [
    "import pyLDAvis.gensim_models"
   ]
  },
  {
   "cell_type": "code",
   "execution_count": 89,
   "metadata": {},
   "outputs": [
    {
     "name": "stderr",
     "output_type": "stream",
     "text": [
      "c:\\ProgramData\\Anaconda3\\lib\\site-packages\\pyLDAvis\\_prepare.py:246: FutureWarning: In a future version of pandas all arguments of DataFrame.drop except for the argument 'labels' will be keyword-only.\n",
      "  default_term_info = default_term_info.sort_values(\n"
     ]
    }
   ],
   "source": [
    "vis = pyLDAvis.gensim_models.prepare(topic_model=ldaModel, corpus=corpus, dictionary=dictionary_LDA)"
   ]
  },
  {
   "cell_type": "code",
   "execution_count": 90,
   "metadata": {},
   "outputs": [
    {
     "ename": "AttributeError",
     "evalue": "module 'pyLDAvis' has no attribute 'gensim'",
     "output_type": "error",
     "traceback": [
      "\u001b[1;31m---------------------------------------------------------------------------\u001b[0m",
      "\u001b[1;31mAttributeError\u001b[0m                            Traceback (most recent call last)",
      "Cell \u001b[1;32mIn [90], line 2\u001b[0m\n\u001b[0;32m      1\u001b[0m pyLDAvis\u001b[39m.\u001b[39menable_notebook()\n\u001b[1;32m----> 2\u001b[0m vis \u001b[39m=\u001b[39m pyLDAvis\u001b[39m.\u001b[39;49mgensim\u001b[39m.\u001b[39mprepare(ldaModel, corpus, dictionary\u001b[39m=\u001b[39mldaModel\u001b[39m.\u001b[39mid2word)\n\u001b[0;32m      3\u001b[0m vis\n",
      "\u001b[1;31mAttributeError\u001b[0m: module 'pyLDAvis' has no attribute 'gensim'"
     ]
    }
   ],
   "source": [
    "pyLDAvis.enable_notebook()\n",
    "vis = pyLDAvis.gensim.prepare(ldaModel, corpus, dictionary=ldaModel.id2word)\n",
    "vis"
   ]
  },
  {
   "cell_type": "markdown",
   "metadata": {},
   "source": [
    "## DATA IO"
   ]
  },
  {
   "cell_type": "code",
   "execution_count": null,
   "metadata": {},
   "outputs": [],
   "source": [
    "txt = [\n",
    "    'I like to eat broccoli and bananas.',\n",
    "    'I munched a banana and spinach smoothie for breakfast.',\n",
    "    'Chinchillas and kittens are cute.',\n",
    "    'My sister adopted a kitten yesterday.',\n",
    "    'Look at this cute hamster munching on a piece of broccoli.'\n",
    "]\n"
   ]
  },
  {
   "cell_type": "code",
   "execution_count": null,
   "metadata": {},
   "outputs": [
    {
     "data": {
      "text/plain": [
       "5"
      ]
     },
     "execution_count": 60,
     "metadata": {},
     "output_type": "execute_result"
    }
   ],
   "source": [
    "len(txt)"
   ]
  },
  {
   "cell_type": "markdown",
   "metadata": {},
   "source": [
    "## Preporcessing"
   ]
  },
  {
   "cell_type": "code",
   "execution_count": 93,
   "metadata": {},
   "outputs": [],
   "source": [
    "# simplify Penn tags to n (NOUN), v (VERB), a (ADJECTIVE) or r (ADVERB)\n",
    "def simplify(penn_tag):\n",
    "    pre = penn_tag[0]\n",
    "    if (pre == 'J'):\n",
    "        return 'a'\n",
    "    elif (pre == 'R'):\n",
    "        return 'r'\n",
    "    elif (pre == 'V'):\n",
    "        return 'v'\n",
    "    else:\n",
    "        return 'n'\n"
   ]
  },
  {
   "cell_type": "code",
   "execution_count": 94,
   "metadata": {},
   "outputs": [],
   "source": [
    "import warnings\n",
    "warnings.filterwarnings(action='ignore', category=UserWarning)\n",
    "import gensim\n",
    "import numpy as np\n",
    "import nltk\n",
    "from nltk.corpus import stopwords\n",
    "from nltk.stem import WordNetLemmatizer\n",
    "import matplotlib.pyplot as plt\n",
    "%matplotlib inline"
   ]
  },
  {
   "cell_type": "code",
   "execution_count": 95,
   "metadata": {},
   "outputs": [],
   "source": [
    "# gensim provides some basic preprocessing steps\n",
    "def preprocess(text, language='english'):\n",
    "    stop_words = stopwords.words(language) # stopwords from nltk\n",
    "    toks = gensim.utils.simple_preprocess(str(text), deacc=True) # gensim\n",
    "    wn = WordNetLemmatizer() # from nltk\n",
    "    # return\n",
    "    return [wn.lemmatize(tok, simplify(pos)) for tok, pos in nltk.pos_tag(toks) if tok not in stop_words]\n"
   ]
  },
  {
   "cell_type": "code",
   "execution_count": 96,
   "metadata": {},
   "outputs": [
    {
     "name": "stderr",
     "output_type": "stream",
     "text": [
      "[nltk_data] Downloading package stopwords to\n",
      "[nltk_data]     C:\\Users\\duygu\\AppData\\Roaming\\nltk_data...\n",
      "[nltk_data]   Package stopwords is already up-to-date!\n",
      "[nltk_data] Downloading package averaged_perceptron_tagger to\n",
      "[nltk_data]     C:\\Users\\duygu\\AppData\\Roaming\\nltk_data...\n",
      "[nltk_data]   Package averaged_perceptron_tagger is already up-to-\n",
      "[nltk_data]       date!\n",
      "[nltk_data] Downloading package wordnet to\n",
      "[nltk_data]     C:\\Users\\duygu\\AppData\\Roaming\\nltk_data...\n",
      "[nltk_data]   Package wordnet is already up-to-date!\n",
      "[nltk_data] Downloading package omw-1.4 to\n",
      "[nltk_data]     C:\\Users\\duygu\\AppData\\Roaming\\nltk_data...\n",
      "[nltk_data]   Package omw-1.4 is already up-to-date!\n"
     ]
    },
    {
     "data": {
      "text/plain": [
       "True"
      ]
     },
     "execution_count": 96,
     "metadata": {},
     "output_type": "execute_result"
    }
   ],
   "source": [
    "nltk.download('stopwords')\n",
    "nltk.download('averaged_perceptron_tagger')\n",
    "nltk.download('wordnet')\n",
    "nltk.download('omw-1.4')\n"
   ]
  },
  {
   "cell_type": "code",
   "execution_count": 97,
   "metadata": {},
   "outputs": [
    {
     "data": {
      "text/plain": [
       "[['like', 'eat', 'broccoli', 'banana'],\n",
       " ['munch', 'banana', 'spinach', 'smoothie', 'breakfast'],\n",
       " ['chinchilla', 'kitten', 'cute'],\n",
       " ['sister', 'adopt', 'kitten', 'yesterday'],\n",
       " ['look', 'cute', 'hamster', 'munch', 'piece', 'broccoli']]"
      ]
     },
     "execution_count": 97,
     "metadata": {},
     "output_type": "execute_result"
    }
   ],
   "source": [
    "# Apply function to input text (which is a simple list!)\n",
    "corp = [preprocess(line, language='english') for line in txt]\n",
    "corp\n"
   ]
  },
  {
   "cell_type": "code",
   "execution_count": 98,
   "metadata": {},
   "outputs": [
    {
     "data": {
      "text/plain": [
       "17"
      ]
     },
     "execution_count": 98,
     "metadata": {},
     "output_type": "execute_result"
    }
   ],
   "source": [
    "# build dictionary with gensim\n",
    "dictionary = gensim.corpora.Dictionary(corp) # gensim\n",
    "len(dictionary)"
   ]
  },
  {
   "cell_type": "code",
   "execution_count": 99,
   "metadata": {},
   "outputs": [],
   "source": [
    "#stopwords.words(\"english\")"
   ]
  },
  {
   "cell_type": "code",
   "execution_count": 100,
   "metadata": {},
   "outputs": [],
   "source": [
    "numberOfTopics=2 "
   ]
  },
  {
   "cell_type": "code",
   "execution_count": 101,
   "metadata": {},
   "outputs": [],
   "source": [
    "ldaModel = gensim.models.LdaModel(bow, num_topics=numberOfTopics, \\\n",
    "                                  id2word=dictionary, \\\n",
    "                                  passes=30, alpha=[0.01]*numberOfTopics, \\\n",
    "                                  eta=[0.01]*len(dictionary_LDA.keys()))"
   ]
  },
  {
   "cell_type": "code",
   "execution_count": null,
   "metadata": {},
   "outputs": [],
   "source": [
    "ldaModel.show_topics(formatted= TRUE, )"
   ]
  },
  {
   "cell_type": "code",
   "execution_count": 102,
   "metadata": {},
   "outputs": [
    {
     "ename": "AttributeError",
     "evalue": "module 'pyLDAvis' has no attribute 'gensim'",
     "output_type": "error",
     "traceback": [
      "\u001b[1;31m---------------------------------------------------------------------------\u001b[0m",
      "\u001b[1;31mAttributeError\u001b[0m                            Traceback (most recent call last)",
      "Cell \u001b[1;32mIn [102], line 1\u001b[0m\n\u001b[1;32m----> 1\u001b[0m vis \u001b[39m=\u001b[39m pyLDAvis\u001b[39m.\u001b[39;49mgensim\u001b[39m.\u001b[39mprepare(ldaModel, corpus\u001b[39m=\u001b[39m bow, dictionary\u001b[39m=\u001b[39mdictionary)\n",
      "\u001b[1;31mAttributeError\u001b[0m: module 'pyLDAvis' has no attribute 'gensim'"
     ]
    }
   ],
   "source": [
    "vis = pyLDAvis.gensim.prepare(ldaModel, corpus= bow, dictionary=dictionary)"
   ]
  },
  {
   "cell_type": "code",
   "execution_count": 103,
   "metadata": {},
   "outputs": [
    {
     "data": {
      "text/html": [
       "\n",
       "<link rel=\"stylesheet\" type=\"text/css\" href=\"https://cdn.jsdelivr.net/gh/bmabey/pyLDAvis@3.3.1/pyLDAvis/js/ldavis.v1.0.0.css\">\n",
       "\n",
       "\n",
       "<div id=\"ldavis_el2147223729813638722639151341\"></div>\n",
       "<script type=\"text/javascript\">\n",
       "\n",
       "var ldavis_el2147223729813638722639151341_data = {\"mdsDat\": {\"x\": [-0.17988270911212886, 0.27198052096110614, -0.09209781184897732], \"y\": [0.0, 0.0, 0.0], \"topics\": [1, 2, 3], \"cluster\": [1, 1, 1], \"Freq\": [84.28146293243104, 15.62517313529313, 0.09336393227583134]}, \"tinfo\": {\"Term\": [\"in\", \"the\", \"for\", \".\", \"I\", \"value\", \"case\", \"Good\", \"Excellent\", \",\", \"way\", \"unless\", \"to\", \"there\", \"plug\", \"So\", \"no\", \"me\", \"it \", \"is\", \"here\", \"go\", \"converter\", \"by\", \"a\", \"US\", \"Great\", \"jawbone\", \"in\", \"I\", \"no\", \"value\", \"case\", \"Good\", \"Excellent\", \",\", \"way\", \"unless\", \"to\", \"there\", \"So\", \"plug\", \"me\", \"it \", \"is\", \"here\", \"go\", \"converter\", \"by\", \"a\", \"US\", \"the\", \"for\", \".\", \"Great\", \"jawbone\", \"jawbone\", \"Great\", \"the\", \"for\", \".\", \"value\", \"case\", \"Good\", \"Excellent\", \",\", \"way\", \"unless\", \"to\", \"there\", \"I\", \"So\", \"no\", \"me\", \"it \", \"is\", \"here\", \"go\", \"converter\", \"by\", \"a\", \"US\", \"plug\", \"in\", \"jawbone\", \"Great\", \"no\", \"value\", \"case\", \"Good\", \"Excellent\", \",\", \"way\", \"unless\", \"to\", \"there\", \"So\", \"I\", \"me\", \"it \", \"is\", \"here\", \"go\", \"converter\", \"by\", \"a\", \"US\", \"plug\", \"the\", \".\", \"for\", \"in\"], \"Freq\": [1.0, 1.0, 1.0, 1.0, 1.0, 1.0, 1.0, 1.0, 1.0, 1.0, 1.0, 1.0, 1.0, 1.0, 1.0, 1.0, 1.0, 1.0, 1.0, 1.0, 1.0, 1.0, 1.0, 1.0, 1.0, 1.0, 0.0, 0.0, 1.987170397763211, 0.9985249723069081, 0.9985249723069081, 0.9985249723069081, 0.9985249723069081, 0.9985249723069081, 0.9985249723069081, 0.9985249723069081, 0.9985249723069081, 0.9985249723069081, 0.9985249723069081, 0.9985249723069081, 0.9985249723069081, 0.9985249723069081, 0.9985249723069081, 0.9985249723069081, 0.9985249723069081, 0.9985249723069081, 0.9985249723069081, 0.9985249723069081, 0.9985249723069081, 0.9985249723069081, 0.9985249723069081, 0.9985249723069081, 0.9985249723069081, 0.9985249723069081, 0.009886440125782206, 0.009886440125782206, 0.9564500208565576, 0.9564500208565576, 0.9564500208565576, 0.9564500208565576, 0.9564500208565576, 0.009469812387559826, 0.009469812387559826, 0.009469812387559826, 0.009469812387559826, 0.009469812387559826, 0.009469812387559826, 0.009469812387559826, 0.009469812387559826, 0.009469812387559826, 0.009469812387559826, 0.009469812387559826, 0.009469812387559826, 0.009469812387559826, 0.009469812387559826, 0.009469812387559826, 0.009469812387559826, 0.009469812387559826, 0.009469812387559826, 0.009469812387559826, 0.009469812387559826, 0.009469812387559826, 0.009469812387559826, 0.009469812387559826, 0.001067016385880497, 0.001067016385880497, 0.001067016385880497, 0.001067016385880497, 0.001067016385880497, 0.001067016385880497, 0.001067016385880497, 0.001067016385880497, 0.001067016385880497, 0.001067016385880497, 0.001067016385880497, 0.001067016385880497, 0.001067016385880497, 0.001067016385880497, 0.001067016385880497, 0.001067016385880497, 0.001067016385880497, 0.001067016385880497, 0.001067016385880497, 0.001067016385880497, 0.001067016385880497, 0.001067016385880497, 0.001067016385880497, 0.001067016385880497, 0.001067016385880497, 0.001067016385880497, 0.001067016385880497, 0.001067016385880497], \"Total\": [1.0, 1.0, 1.0, 1.0, 1.0, 1.0, 1.0, 1.0, 1.0, 1.0, 1.0, 1.0, 1.0, 1.0, 1.0, 1.0, 1.0, 1.0, 1.0, 1.0, 1.0, 1.0, 1.0, 1.0, 1.0, 1.0, 0.0, 0.0, 1.9977072265366513, 1.0090618010803485, 1.0090618010803485, 1.0090618010803485, 1.0090618010803485, 1.0090618010803485, 1.0090618010803485, 1.0090618010803485, 1.0090618010803485, 1.0090618010803485, 1.0090618010803485, 1.0090618010803485, 1.0090618010803485, 1.0090618010803485, 1.0090618010803485, 1.0090618010803485, 1.0090618010803485, 1.0090618010803485, 1.0090618010803485, 1.0090618010803485, 1.0090618010803485, 1.0090618010803485, 1.0090618010803485, 1.9560420095493463, 1.9560420095493463, 1.9560420095493463, 0.9674034773682203, 0.9674034773682203, 0.9674034773682203, 0.9674034773682203, 1.9560420095493463, 1.9560420095493463, 1.9560420095493463, 1.0090618010803485, 1.0090618010803485, 1.0090618010803485, 1.0090618010803485, 1.0090618010803485, 1.0090618010803485, 1.0090618010803485, 1.0090618010803485, 1.0090618010803485, 1.0090618010803485, 1.0090618010803485, 1.0090618010803485, 1.0090618010803485, 1.0090618010803485, 1.0090618010803485, 1.0090618010803485, 1.0090618010803485, 1.0090618010803485, 1.0090618010803485, 1.0090618010803485, 1.0090618010803485, 1.0090618010803485, 1.9977072265366513, 0.9674034773682203, 0.9674034773682203, 1.0090618010803485, 1.0090618010803485, 1.0090618010803485, 1.0090618010803485, 1.0090618010803485, 1.0090618010803485, 1.0090618010803485, 1.0090618010803485, 1.0090618010803485, 1.0090618010803485, 1.0090618010803485, 1.0090618010803485, 1.0090618010803485, 1.0090618010803485, 1.0090618010803485, 1.0090618010803485, 1.0090618010803485, 1.0090618010803485, 1.0090618010803485, 1.0090618010803485, 1.0090618010803485, 1.0090618010803485, 1.9560420095493463, 1.9560420095493463, 1.9560420095493463, 1.9977072265366513], \"Category\": [\"Default\", \"Default\", \"Default\", \"Default\", \"Default\", \"Default\", \"Default\", \"Default\", \"Default\", \"Default\", \"Default\", \"Default\", \"Default\", \"Default\", \"Default\", \"Default\", \"Default\", \"Default\", \"Default\", \"Default\", \"Default\", \"Default\", \"Default\", \"Default\", \"Default\", \"Default\", \"Default\", \"Default\", \"Topic1\", \"Topic1\", \"Topic1\", \"Topic1\", \"Topic1\", \"Topic1\", \"Topic1\", \"Topic1\", \"Topic1\", \"Topic1\", \"Topic1\", \"Topic1\", \"Topic1\", \"Topic1\", \"Topic1\", \"Topic1\", \"Topic1\", \"Topic1\", \"Topic1\", \"Topic1\", \"Topic1\", \"Topic1\", \"Topic1\", \"Topic1\", \"Topic1\", \"Topic1\", \"Topic1\", \"Topic1\", \"Topic2\", \"Topic2\", \"Topic2\", \"Topic2\", \"Topic2\", \"Topic2\", \"Topic2\", \"Topic2\", \"Topic2\", \"Topic2\", \"Topic2\", \"Topic2\", \"Topic2\", \"Topic2\", \"Topic2\", \"Topic2\", \"Topic2\", \"Topic2\", \"Topic2\", \"Topic2\", \"Topic2\", \"Topic2\", \"Topic2\", \"Topic2\", \"Topic2\", \"Topic2\", \"Topic2\", \"Topic2\", \"Topic3\", \"Topic3\", \"Topic3\", \"Topic3\", \"Topic3\", \"Topic3\", \"Topic3\", \"Topic3\", \"Topic3\", \"Topic3\", \"Topic3\", \"Topic3\", \"Topic3\", \"Topic3\", \"Topic3\", \"Topic3\", \"Topic3\", \"Topic3\", \"Topic3\", \"Topic3\", \"Topic3\", \"Topic3\", \"Topic3\", \"Topic3\", \"Topic3\", \"Topic3\", \"Topic3\", \"Topic3\"], \"logprob\": [28.0, 27.0, 26.0, 25.0, 24.0, 23.0, 22.0, 21.0, 20.0, 19.0, 18.0, 17.0, 16.0, 15.0, 14.0, 13.0, 12.0, 11.0, 10.0, 9.0, 8.0, 7.0, 6.0, 5.0, 4.0, 3.0, 2.0, 1.0, -2.608, -3.2962, -3.2962, -3.2962, -3.2962, -3.2962, -3.2962, -3.2962, -3.2962, -3.2962, -3.2962, -3.2962, -3.2962, -3.2962, -3.2962, -3.2962, -3.2962, -3.2962, -3.2962, -3.2962, -3.2962, -3.2962, -3.2962, -3.2962, -3.2962, -3.2962, -7.9113, -7.9113, -1.654, -1.654, -1.654, -1.654, -1.654, -6.2691, -6.2691, -6.2691, -6.2691, -6.2691, -6.2691, -6.2691, -6.2691, -6.2691, -6.2691, -6.2691, -6.2691, -6.2691, -6.2691, -6.2691, -6.2691, -6.2691, -6.2691, -6.2691, -6.2691, -6.2691, -6.2691, -6.2691, -3.3322, -3.3322, -3.3322, -3.3322, -3.3322, -3.3322, -3.3322, -3.3322, -3.3322, -3.3322, -3.3322, -3.3322, -3.3322, -3.3322, -3.3322, -3.3322, -3.3322, -3.3322, -3.3322, -3.3322, -3.3322, -3.3322, -3.3322, -3.3322, -3.3322, -3.3322, -3.3322, -3.3322], \"loglift\": [28.0, 27.0, 26.0, 25.0, 24.0, 23.0, 22.0, 21.0, 20.0, 19.0, 18.0, 17.0, 16.0, 15.0, 14.0, 13.0, 12.0, 11.0, 10.0, 9.0, 8.0, 7.0, 6.0, 5.0, 4.0, 3.0, 2.0, 1.0, 0.1657, 0.1605, 0.1605, 0.1605, 0.1605, 0.1605, 0.1605, 0.1605, 0.1605, 0.1605, 0.1605, 0.1605, 0.1605, 0.1605, 0.1605, 0.1605, 0.1605, 0.1605, 0.1605, 0.1605, 0.1605, 0.1605, 0.1605, -0.5014, -0.5014, -0.5014, -4.4124, -4.4124, 1.8449, 1.8449, 1.1408, 1.1408, 1.1408, -2.8124, -2.8124, -2.8124, -2.8124, -2.8124, -2.8124, -2.8124, -2.8124, -2.8124, -2.8124, -2.8124, -2.8124, -2.8124, -2.8124, -2.8124, -2.8124, -2.8124, -2.8124, -2.8124, -2.8124, -2.8124, -2.8124, -3.4954, 0.1667, 0.1667, 0.1245, 0.1245, 0.1245, 0.1245, 0.1245, 0.1245, 0.1245, 0.1245, 0.1245, 0.1245, 0.1245, 0.1245, 0.1245, 0.1245, 0.1245, 0.1245, 0.1245, 0.1245, 0.1245, 0.1245, 0.1245, 0.1245, -0.5374, -0.5374, -0.5374, -0.5585]}, \"token.table\": {\"Topic\": [1, 1, 2, 1, 1, 2, 1, 1, 1, 1, 1, 1, 1, 1, 2, 1, 1, 1, 1, 1, 2, 1, 1, 1, 1, 2, 1, 1, 1, 1, 1], \"Freq\": [0.9910195777199706, 0.5112364637968029, 0.5112364637968029, 0.9910195777199706, 0.9910195777199706, 1.0336948578275293, 0.9910195777199706, 0.9910195777199706, 0.9910195777199706, 0.9910195777199706, 0.9910195777199706, 0.9910195777199706, 0.9910195777199706, 0.5112364637968029, 0.5112364637968029, 0.9910195777199706, 0.9910195777199706, 1.0011477024425264, 0.9910195777199706, 0.9910195777199706, 1.0336948578275293, 0.9910195777199706, 0.9910195777199706, 0.9910195777199706, 0.5112364637968029, 0.5112364637968029, 0.9910195777199706, 0.9910195777199706, 0.9910195777199706, 0.9910195777199706, 0.9910195777199706], \"Term\": [\",\", \".\", \".\", \"Excellent\", \"Good\", \"Great\", \"I\", \"So\", \"US\", \"a\", \"by\", \"case\", \"converter\", \"for\", \"for\", \"go\", \"here\", \"in\", \"is\", \"it \", \"jawbone\", \"me\", \"no\", \"plug\", \"the\", \"the\", \"there\", \"to\", \"unless\", \"value\", \"way\"]}, \"R\": 28, \"lambda.step\": 0.01, \"plot.opts\": {\"xlab\": \"PC1\", \"ylab\": \"PC2\"}, \"topic.order\": [2, 3, 1]};\n",
       "\n",
       "function LDAvis_load_lib(url, callback){\n",
       "  var s = document.createElement('script');\n",
       "  s.src = url;\n",
       "  s.async = true;\n",
       "  s.onreadystatechange = s.onload = callback;\n",
       "  s.onerror = function(){console.warn(\"failed to load library \" + url);};\n",
       "  document.getElementsByTagName(\"head\")[0].appendChild(s);\n",
       "}\n",
       "\n",
       "if(typeof(LDAvis) !== \"undefined\"){\n",
       "   // already loaded: just create the visualization\n",
       "   !function(LDAvis){\n",
       "       new LDAvis(\"#\" + \"ldavis_el2147223729813638722639151341\", ldavis_el2147223729813638722639151341_data);\n",
       "   }(LDAvis);\n",
       "}else if(typeof define === \"function\" && define.amd){\n",
       "   // require.js is available: use it to load d3/LDAvis\n",
       "   require.config({paths: {d3: \"https://d3js.org/d3.v5\"}});\n",
       "   require([\"d3\"], function(d3){\n",
       "      window.d3 = d3;\n",
       "      LDAvis_load_lib(\"https://cdn.jsdelivr.net/gh/bmabey/pyLDAvis@3.3.1/pyLDAvis/js/ldavis.v3.0.0.js\", function(){\n",
       "        new LDAvis(\"#\" + \"ldavis_el2147223729813638722639151341\", ldavis_el2147223729813638722639151341_data);\n",
       "      });\n",
       "    });\n",
       "}else{\n",
       "    // require.js not available: dynamically load d3 & LDAvis\n",
       "    LDAvis_load_lib(\"https://d3js.org/d3.v5.js\", function(){\n",
       "         LDAvis_load_lib(\"https://cdn.jsdelivr.net/gh/bmabey/pyLDAvis@3.3.1/pyLDAvis/js/ldavis.v3.0.0.js\", function(){\n",
       "                 new LDAvis(\"#\" + \"ldavis_el2147223729813638722639151341\", ldavis_el2147223729813638722639151341_data);\n",
       "            })\n",
       "         });\n",
       "}\n",
       "</script>"
      ],
      "text/plain": [
       "<IPython.core.display.HTML object>"
      ]
     },
     "execution_count": 103,
     "metadata": {},
     "output_type": "execute_result"
    }
   ],
   "source": [
    "pyLDAvis.display(vis)"
   ]
  },
  {
   "cell_type": "markdown",
   "metadata": {},
   "source": [
    "### Next exercise : please applly to review data "
   ]
  },
  {
   "cell_type": "code",
   "execution_count": null,
   "metadata": {},
   "outputs": [],
   "source": [
    "# use amazon label data \n"
   ]
  }
 ],
 "metadata": {
  "kernelspec": {
   "display_name": "Python 3.9.7 ('base')",
   "language": "python",
   "name": "python3"
  },
  "language_info": {
   "codemirror_mode": {
    "name": "ipython",
    "version": 3
   },
   "file_extension": ".py",
   "mimetype": "text/x-python",
   "name": "python",
   "nbconvert_exporter": "python",
   "pygments_lexer": "ipython3",
   "version": "3.9.7"
  },
  "orig_nbformat": 4,
  "vscode": {
   "interpreter": {
    "hash": "ad2bdc8ecc057115af97d19610ffacc2b4e99fae6737bb82f5d7fb13d2f2c186"
   }
  }
 },
 "nbformat": 4,
 "nbformat_minor": 2
}
