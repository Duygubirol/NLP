{
  "cells": [
    {
      "cell_type": "markdown",
      "metadata": {
        "id": "l-_-n1E81b-c"
      },
      "source": [
        "# Topic Modeling using LDA and guidedLDA"
      ]
    },
    {
      "cell_type": "markdown",
      "metadata": {
        "id": "jS65IyQN1nRv"
      },
      "source": [
        "## Modules\n"
      ]
    },
    {
      "cell_type": "code",
      "execution_count": 1,
      "metadata": {
        "id": "z96gDHR_1atB"
      },
      "outputs": [],
      "source": [
        "import gensim"
      ]
    },
    {
      "cell_type": "code",
      "execution_count": 2,
      "metadata": {
        "id": "aRtPvgHU5Uou"
      },
      "outputs": [],
      "source": [
        "import warnings\n",
        "warnings.filterwarnings(action='ignore', category=UserWarning)\n",
        "import numpy as np\n",
        "import matplotlib.pyplot as plt"
      ]
    },
    {
      "cell_type": "code",
      "execution_count": 3,
      "metadata": {
        "id": "iKEzsahd5YS5"
      },
      "outputs": [],
      "source": [
        "import nltk\n",
        "from nltk.corpus import stopwords\n",
        "from nltk.stem import WordNetLemmatizer"
      ]
    },
    {
      "cell_type": "code",
      "execution_count": 4,
      "metadata": {
        "colab": {
          "base_uri": "https://localhost:8080/"
        },
        "id": "uwe4f0mU6Dgi",
        "outputId": "021095c7-488f-43e0-e896-79a48a8dca0b"
      },
      "outputs": [
        {
          "name": "stderr",
          "output_type": "stream",
          "text": [
            "[nltk_data] Downloading package stopwords to\n",
            "[nltk_data]     C:\\Users\\duygu\\AppData\\Roaming\\nltk_data...\n",
            "[nltk_data]   Package stopwords is already up-to-date!\n"
          ]
        },
        {
          "data": {
            "text/plain": [
              "True"
            ]
          },
          "execution_count": 4,
          "metadata": {},
          "output_type": "execute_result"
        }
      ],
      "source": [
        "nltk.download('stopwords')"
      ]
    },
    {
      "cell_type": "code",
      "execution_count": 5,
      "metadata": {
        "colab": {
          "base_uri": "https://localhost:8080/"
        },
        "id": "5i9YxQJr6Sev",
        "outputId": "d18ce046-671f-45ae-f627-1177ca93dc86"
      },
      "outputs": [
        {
          "name": "stderr",
          "output_type": "stream",
          "text": [
            "[nltk_data] Downloading package averaged_perceptron_tagger to\n",
            "[nltk_data]     C:\\Users\\duygu\\AppData\\Roaming\\nltk_data...\n",
            "[nltk_data]   Package averaged_perceptron_tagger is already up-to-\n",
            "[nltk_data]       date!\n",
            "[nltk_data] Downloading package wordnet to\n",
            "[nltk_data]     C:\\Users\\duygu\\AppData\\Roaming\\nltk_data...\n",
            "[nltk_data]   Package wordnet is already up-to-date!\n",
            "[nltk_data] Downloading package omw-1.4 to\n",
            "[nltk_data]     C:\\Users\\duygu\\AppData\\Roaming\\nltk_data...\n",
            "[nltk_data]   Package omw-1.4 is already up-to-date!\n"
          ]
        },
        {
          "data": {
            "text/plain": [
              "True"
            ]
          },
          "execution_count": 5,
          "metadata": {},
          "output_type": "execute_result"
        }
      ],
      "source": [
        "nltk.download('averaged_perceptron_tagger')\n",
        "nltk.download('wordnet')\n",
        "nltk.download('omw-1.4')"
      ]
    },
    {
      "cell_type": "code",
      "execution_count": 6,
      "metadata": {
        "id": "W4TaWkSA5se1"
      },
      "outputs": [
        {
          "data": {
            "text/plain": [
              "['i',\n",
              " 'me',\n",
              " 'my',\n",
              " 'myself',\n",
              " 'we',\n",
              " 'our',\n",
              " 'ours',\n",
              " 'ourselves',\n",
              " 'you',\n",
              " \"you're\",\n",
              " \"you've\",\n",
              " \"you'll\",\n",
              " \"you'd\",\n",
              " 'your',\n",
              " 'yours',\n",
              " 'yourself',\n",
              " 'yourselves',\n",
              " 'he',\n",
              " 'him',\n",
              " 'his',\n",
              " 'himself',\n",
              " 'she',\n",
              " \"she's\",\n",
              " 'her',\n",
              " 'hers',\n",
              " 'herself',\n",
              " 'it',\n",
              " \"it's\",\n",
              " 'its',\n",
              " 'itself',\n",
              " 'they',\n",
              " 'them',\n",
              " 'their',\n",
              " 'theirs',\n",
              " 'themselves',\n",
              " 'what',\n",
              " 'which',\n",
              " 'who',\n",
              " 'whom',\n",
              " 'this',\n",
              " 'that',\n",
              " \"that'll\",\n",
              " 'these',\n",
              " 'those',\n",
              " 'am',\n",
              " 'is',\n",
              " 'are',\n",
              " 'was',\n",
              " 'were',\n",
              " 'be',\n",
              " 'been',\n",
              " 'being',\n",
              " 'have',\n",
              " 'has',\n",
              " 'had',\n",
              " 'having',\n",
              " 'do',\n",
              " 'does',\n",
              " 'did',\n",
              " 'doing',\n",
              " 'a',\n",
              " 'an',\n",
              " 'the',\n",
              " 'and',\n",
              " 'but',\n",
              " 'if',\n",
              " 'or',\n",
              " 'because',\n",
              " 'as',\n",
              " 'until',\n",
              " 'while',\n",
              " 'of',\n",
              " 'at',\n",
              " 'by',\n",
              " 'for',\n",
              " 'with',\n",
              " 'about',\n",
              " 'against',\n",
              " 'between',\n",
              " 'into',\n",
              " 'through',\n",
              " 'during',\n",
              " 'before',\n",
              " 'after',\n",
              " 'above',\n",
              " 'below',\n",
              " 'to',\n",
              " 'from',\n",
              " 'up',\n",
              " 'down',\n",
              " 'in',\n",
              " 'out',\n",
              " 'on',\n",
              " 'off',\n",
              " 'over',\n",
              " 'under',\n",
              " 'again',\n",
              " 'further',\n",
              " 'then',\n",
              " 'once',\n",
              " 'here',\n",
              " 'there',\n",
              " 'when',\n",
              " 'where',\n",
              " 'why',\n",
              " 'how',\n",
              " 'all',\n",
              " 'any',\n",
              " 'both',\n",
              " 'each',\n",
              " 'few',\n",
              " 'more',\n",
              " 'most',\n",
              " 'other',\n",
              " 'some',\n",
              " 'such',\n",
              " 'no',\n",
              " 'nor',\n",
              " 'not',\n",
              " 'only',\n",
              " 'own',\n",
              " 'same',\n",
              " 'so',\n",
              " 'than',\n",
              " 'too',\n",
              " 'very',\n",
              " 's',\n",
              " 't',\n",
              " 'can',\n",
              " 'will',\n",
              " 'just',\n",
              " 'don',\n",
              " \"don't\",\n",
              " 'should',\n",
              " \"should've\",\n",
              " 'now',\n",
              " 'd',\n",
              " 'll',\n",
              " 'm',\n",
              " 'o',\n",
              " 're',\n",
              " 've',\n",
              " 'y',\n",
              " 'ain',\n",
              " 'aren',\n",
              " \"aren't\",\n",
              " 'couldn',\n",
              " \"couldn't\",\n",
              " 'didn',\n",
              " \"didn't\",\n",
              " 'doesn',\n",
              " \"doesn't\",\n",
              " 'hadn',\n",
              " \"hadn't\",\n",
              " 'hasn',\n",
              " \"hasn't\",\n",
              " 'haven',\n",
              " \"haven't\",\n",
              " 'isn',\n",
              " \"isn't\",\n",
              " 'ma',\n",
              " 'mightn',\n",
              " \"mightn't\",\n",
              " 'mustn',\n",
              " \"mustn't\",\n",
              " 'needn',\n",
              " \"needn't\",\n",
              " 'shan',\n",
              " \"shan't\",\n",
              " 'shouldn',\n",
              " \"shouldn't\",\n",
              " 'wasn',\n",
              " \"wasn't\",\n",
              " 'weren',\n",
              " \"weren't\",\n",
              " 'won',\n",
              " \"won't\",\n",
              " 'wouldn',\n",
              " \"wouldn't\"]"
            ]
          },
          "execution_count": 6,
          "metadata": {},
          "output_type": "execute_result"
        }
      ],
      "source": [
        "stopwords.words('english')"
      ]
    },
    {
      "cell_type": "markdown",
      "metadata": {
        "id": "lIzoJWPe1tqg"
      },
      "source": [
        "## Data IO"
      ]
    },
    {
      "cell_type": "code",
      "execution_count": 7,
      "metadata": {
        "id": "fG2Qriww1pGA"
      },
      "outputs": [],
      "source": [
        "txt = [\n",
        "    'I like to eat broccoli and bananas.',\n",
        "    'I munched a banana and spinach smoothie for breakfast.',\n",
        "    'Chinchillas and kittens are cute.',\n",
        "    'My sister adopted a kitten yesterday.',\n",
        "    'Look at this cute hamster munching on a piece of broccoli.'\n",
        "]"
      ]
    },
    {
      "cell_type": "markdown",
      "metadata": {
        "id": "a80IjyxL4Pq7"
      },
      "source": [
        "# Preprocessing"
      ]
    },
    {
      "cell_type": "code",
      "execution_count": 8,
      "metadata": {
        "id": "ZjVYamzc4FSI"
      },
      "outputs": [],
      "source": [
        "# simplify Penn tags to n (NOUN), v (VERB), a (ADJECTIVE) or r (ADVERB)\n",
        "def simplify(penn_tag):\n",
        "    pre = penn_tag[0]\n",
        "    if (pre == 'J'):\n",
        "        return 'a'\n",
        "    elif (pre == 'R'):\n",
        "        return 'r'\n",
        "    elif (pre == 'V'):\n",
        "        return 'v'\n",
        "    else:\n",
        "        return 'n'"
      ]
    },
    {
      "cell_type": "code",
      "execution_count": 9,
      "metadata": {
        "id": "-KClsCMG4qQZ"
      },
      "outputs": [],
      "source": [
        "# define function preprocess(text):\n",
        "# gensim provides some basic preprocessing steps\n",
        "def preprocess(text, language='english'):\n",
        "    stop_words = stopwords.words(language) # stopwords from nltk\n",
        "    toks = gensim.utils.simple_preprocess(str(text), deacc=True) # gensim\n",
        "    wn = WordNetLemmatizer() # from nltk\n",
        "    # return\n",
        "    return [wn.lemmatize(tok, simplify(pos)) for tok, pos in nltk.pos_tag(toks) if tok not in stop_words]"
      ]
    },
    {
      "cell_type": "code",
      "execution_count": 10,
      "metadata": {
        "colab": {
          "base_uri": "https://localhost:8080/"
        },
        "id": "ddia_VZ9484O",
        "outputId": "6cfcc657-b91b-4876-824c-20c5d3223e16"
      },
      "outputs": [
        {
          "data": {
            "text/plain": [
              "[['like', 'eat', 'broccoli', 'banana'],\n",
              " ['munch', 'banana', 'spinach', 'smoothie', 'breakfast'],\n",
              " ['chinchilla', 'kitten', 'cute'],\n",
              " ['sister', 'adopt', 'kitten', 'yesterday'],\n",
              " ['look', 'cute', 'hamster', 'munch', 'piece', 'broccoli']]"
            ]
          },
          "execution_count": 10,
          "metadata": {},
          "output_type": "execute_result"
        }
      ],
      "source": [
        "# Apply function to input text (which is a simple list!)\n",
        "corp = [preprocess(line, language='english') for line in txt]\n",
        "corp"
      ]
    },
    {
      "cell_type": "code",
      "execution_count": 11,
      "metadata": {
        "colab": {
          "base_uri": "https://localhost:8080/"
        },
        "id": "NAfgSSyV6gwT",
        "outputId": "644a8855-8d62-4b58-eda9-1e6d18918af5"
      },
      "outputs": [
        {
          "data": {
            "text/plain": [
              "17"
            ]
          },
          "execution_count": 11,
          "metadata": {},
          "output_type": "execute_result"
        }
      ],
      "source": [
        "# build dictionary with gensim\n",
        "dictionary = gensim.corpora.Dictionary(corp) # gensim\n",
        "len(dictionary)"
      ]
    },
    {
      "cell_type": "code",
      "execution_count": 12,
      "metadata": {
        "colab": {
          "base_uri": "https://localhost:8080/"
        },
        "id": "gWNAw8Qe61EZ",
        "outputId": "340174c8-c019-472f-80a5-fded61430aa1"
      },
      "outputs": [
        {
          "data": {
            "text/plain": [
              "[[(0, 1), (1, 1), (2, 1), (3, 1)],\n",
              " [(0, 1), (4, 1), (5, 1), (6, 1), (7, 1)],\n",
              " [(8, 1), (9, 1), (10, 1)],\n",
              " [(10, 1), (11, 1), (12, 1), (13, 1)],\n",
              " [(1, 1), (5, 1), (9, 1), (14, 1), (15, 1), (16, 1)]]"
            ]
          },
          "execution_count": 12,
          "metadata": {},
          "output_type": "execute_result"
        }
      ],
      "source": [
        "# Convert into bag-of-words format\n",
        "bow = [dictionary.doc2bow(line) for line in corp]\n",
        "bow"
      ]
    },
    {
      "cell_type": "markdown",
      "metadata": {
        "id": "a7sfe8AB7Gjb"
      },
      "source": [
        "### Exercise: Please run the Topic Model and check the results\n",
        "\n",
        "Until 14:50h"
      ]
    },
    {
      "cell_type": "code",
      "execution_count": 13,
      "metadata": {
        "id": "LlreMt1S9bBE"
      },
      "outputs": [
        {
          "ename": "NameError",
          "evalue": "name 'ldaModel' is not defined",
          "output_type": "error",
          "traceback": [
            "\u001b[1;31m---------------------------------------------------------------------------\u001b[0m",
            "\u001b[1;31mNameError\u001b[0m                                 Traceback (most recent call last)",
            "Cell \u001b[1;32mIn [13], line 1\u001b[0m\n\u001b[1;32m----> 1\u001b[0m \u001b[39mdel\u001b[39;00m ldaModel\n",
            "\u001b[1;31mNameError\u001b[0m: name 'ldaModel' is not defined"
          ]
        }
      ],
      "source": [
        "del ldaModel"
      ]
    },
    {
      "cell_type": "code",
      "execution_count": 15,
      "metadata": {
        "id": "cG1L12nz7D0t"
      },
      "outputs": [],
      "source": [
        "numberOfTopics = 2"
      ]
    },
    {
      "cell_type": "code",
      "execution_count": 16,
      "metadata": {
        "id": "cbCHqfmS80ia"
      },
      "outputs": [],
      "source": [
        "ldaModel = gensim.models.LdaModel(bow, num_topics=numberOfTopics, \\\n",
        "                                  id2word=dictionary, \\\n",
        "                                  passes=30, alpha=[0.01]*numberOfTopics, \\\n",
        "                                  eta=[0.01]*len(dictionary.keys()))"
      ]
    },
    {
      "cell_type": "code",
      "execution_count": 17,
      "metadata": {
        "colab": {
          "base_uri": "https://localhost:8080/"
        },
        "id": "ueyevvS99MSB",
        "outputId": "9aa8e491-8382-4063-94a2-583378594e21"
      },
      "outputs": [
        {
          "data": {
            "text/plain": [
              "[(0,\n",
              "  '0.105*\"banana\" + 0.105*\"broccoli\" + 0.105*\"munch\" + 0.053*\"breakfast\" + 0.053*\"smoothie\" + 0.053*\"spinach\" + 0.053*\"hamster\" + 0.053*\"yesterday\" + 0.053*\"sister\" + 0.053*\"adopt\" + 0.053*\"piece\" + 0.053*\"cute\" + 0.053*\"look\" + 0.053*\"like\" + 0.053*\"eat\" + 0.053*\"kitten\" + 0.001*\"chinchilla\"'),\n",
              " (1,\n",
              "  '0.319*\"chinchilla\" + 0.319*\"kitten\" + 0.319*\"cute\" + 0.003*\"hamster\" + 0.003*\"yesterday\" + 0.003*\"sister\" + 0.003*\"adopt\" + 0.003*\"look\" + 0.003*\"banana\" + 0.003*\"smoothie\" + 0.003*\"munch\" + 0.003*\"breakfast\" + 0.003*\"like\" + 0.003*\"eat\" + 0.003*\"broccoli\" + 0.003*\"spinach\" + 0.003*\"piece\"')]"
            ]
          },
          "execution_count": 17,
          "metadata": {},
          "output_type": "execute_result"
        }
      ],
      "source": [
        "ldaModel.show_topics(formatted=True, num_topics=numberOfTopics, num_words=20)"
      ]
    },
    {
      "cell_type": "code",
      "execution_count": 18,
      "metadata": {
        "colab": {
          "base_uri": "https://localhost:8080/"
        },
        "id": "_cWu7r_69VnL",
        "outputId": "d91033b3-50fd-4c03-926a-4adbf1977894"
      },
      "outputs": [
        {
          "name": "stderr",
          "output_type": "stream",
          "text": [
            "c:\\ProgramData\\Anaconda3\\lib\\site-packages\\past\\builtins\\misc.py:45: DeprecationWarning: the imp module is deprecated in favour of importlib; see the module's documentation for alternative uses\n",
            "  from imp import reload\n",
            "c:\\ProgramData\\Anaconda3\\lib\\site-packages\\numexpr\\expressions.py:21: DeprecationWarning: distutils Version classes are deprecated. Use packaging.version instead.\n",
            "  _np_version_forbids_neg_powint = LooseVersion(numpy.__version__) >= LooseVersion('1.12.0b1')\n",
            "c:\\ProgramData\\Anaconda3\\lib\\site-packages\\numexpr\\expressions.py:21: DeprecationWarning: distutils Version classes are deprecated. Use packaging.version instead.\n",
            "  _np_version_forbids_neg_powint = LooseVersion(numpy.__version__) >= LooseVersion('1.12.0b1')\n"
          ]
        }
      ],
      "source": [
        "#!pip install pyLDAvis\n",
        "import pyLDAvis\n",
        "import pyLDAvis.gensim_models"
      ]
    },
    {
      "cell_type": "code",
      "execution_count": 19,
      "metadata": {
        "colab": {
          "base_uri": "https://localhost:8080/"
        },
        "id": "GL8ZAdE3-Z-p",
        "outputId": "f3061c4f-c189-4df1-b36f-e538ae0baeee"
      },
      "outputs": [
        {
          "name": "stderr",
          "output_type": "stream",
          "text": [
            "c:\\ProgramData\\Anaconda3\\lib\\site-packages\\pyLDAvis\\_prepare.py:246: FutureWarning: In a future version of pandas all arguments of DataFrame.drop except for the argument 'labels' will be keyword-only.\n",
            "  default_term_info = default_term_info.sort_values(\n"
          ]
        }
      ],
      "source": [
        "vis = pyLDAvis.gensim_models.prepare(topic_model=ldaModel, corpus=bow, dictionary=dictionary)"
      ]
    },
    {
      "cell_type": "code",
      "execution_count": 20,
      "metadata": {
        "id": "3Acx3gkC93Z2"
      },
      "outputs": [],
      "source": [
        "pyLDAvis.enable_notebook()"
      ]
    },
    {
      "cell_type": "code",
      "execution_count": 21,
      "metadata": {
        "colab": {
          "base_uri": "https://localhost:8080/",
          "height": 881
        },
        "id": "UcoJC0fN-SRS",
        "outputId": "c74c6878-3cf2-416d-c33e-aee599c88187"
      },
      "outputs": [
        {
          "data": {
            "text/html": [
              "\n",
              "<link rel=\"stylesheet\" type=\"text/css\" href=\"https://cdn.jsdelivr.net/gh/bmabey/pyLDAvis@3.3.1/pyLDAvis/js/ldavis.v1.0.0.css\">\n",
              "\n",
              "\n",
              "<div id=\"ldavis_el23352234180118825675515699\"></div>\n",
              "<script type=\"text/javascript\">\n",
              "\n",
              "var ldavis_el23352234180118825675515699_data = {\"mdsDat\": {\"x\": [0.22574337496152064, -0.22574337496152064], \"y\": [0.0, 0.0], \"topics\": [1, 2], \"cluster\": [1, 1], \"Freq\": [86.22775522240784, 13.772244777592164]}, \"tinfo\": {\"Term\": [\"kitten\", \"cute\", \"chinchilla\", \"munch\", \"broccoli\", \"banana\", \"smoothie\", \"spinach\", \"breakfast\", \"like\", \"eat\", \"adopt\", \"sister\", \"yesterday\", \"hamster\", \"look\", \"piece\", \"banana\", \"munch\", \"broccoli\", \"breakfast\", \"smoothie\", \"spinach\", \"adopt\", \"look\", \"hamster\", \"yesterday\", \"sister\", \"piece\", \"like\", \"eat\", \"kitten\", \"cute\", \"chinchilla\", \"chinchilla\", \"cute\", \"kitten\", \"look\", \"hamster\", \"yesterday\", \"sister\", \"adopt\", \"piece\", \"like\", \"eat\", \"spinach\", \"smoothie\", \"breakfast\", \"broccoli\", \"munch\", \"banana\"], \"Freq\": [1.0, 1.0, 0.0, 1.0, 1.0, 1.0, 1.0, 1.0, 1.0, 1.0, 1.0, 1.0, 1.0, 1.0, 1.0, 1.0, 1.0, 1.9890439870517438, 1.9890439870517438, 1.9890439870517438, 0.9994676326126094, 0.9994676326126094, 0.9994676326126094, 0.99946756194346, 0.99946756194346, 0.99946756194346, 0.99946756194346, 0.99946756194346, 0.99946756194346, 0.99946756194346, 0.99946756194346, 0.99946756194346, 0.99946756194346, 0.009895756830822146, 0.9653605277050358, 0.9653605277050358, 0.9653605277050358, 0.009558030202426203, 0.009558030202426203, 0.009558030202426203, 0.009558030202426203, 0.009558030202426203, 0.009558030202426203, 0.009558030202426203, 0.009558030202426203, 0.009558030202426203, 0.009558030202426203, 0.009558030202426203, 0.009558030202426203, 0.009558030202426203, 0.009558030202426203], \"Total\": [1.0, 1.0, 0.0, 1.0, 1.0, 1.0, 1.0, 1.0, 1.0, 1.0, 1.0, 1.0, 1.0, 1.0, 1.0, 1.0, 1.0, 1.99860201725417, 1.99860201725417, 1.99860201725417, 1.0090256628150356, 1.0090256628150356, 1.0090256628150356, 1.0090255921458862, 1.0090255921458862, 1.0090255921458862, 1.0090255921458862, 1.0090255921458862, 1.0090255921458862, 1.0090255921458862, 1.0090255921458862, 1.9648280896484958, 1.9648280896484958, 0.9752562845358579, 0.9752562845358579, 1.9648280896484958, 1.9648280896484958, 1.0090255921458862, 1.0090255921458862, 1.0090255921458862, 1.0090255921458862, 1.0090255921458862, 1.0090255921458862, 1.0090255921458862, 1.0090255921458862, 1.0090256628150356, 1.0090256628150356, 1.0090256628150356, 1.99860201725417, 1.99860201725417, 1.99860201725417], \"Category\": [\"Default\", \"Default\", \"Default\", \"Default\", \"Default\", \"Default\", \"Default\", \"Default\", \"Default\", \"Default\", \"Default\", \"Default\", \"Default\", \"Default\", \"Default\", \"Default\", \"Default\", \"Topic1\", \"Topic1\", \"Topic1\", \"Topic1\", \"Topic1\", \"Topic1\", \"Topic1\", \"Topic1\", \"Topic1\", \"Topic1\", \"Topic1\", \"Topic1\", \"Topic1\", \"Topic1\", \"Topic1\", \"Topic1\", \"Topic1\", \"Topic2\", \"Topic2\", \"Topic2\", \"Topic2\", \"Topic2\", \"Topic2\", \"Topic2\", \"Topic2\", \"Topic2\", \"Topic2\", \"Topic2\", \"Topic2\", \"Topic2\", \"Topic2\", \"Topic2\", \"Topic2\", \"Topic2\"], \"logprob\": [17.0, 16.0, 15.0, 14.0, 13.0, 12.0, 11.0, 10.0, 9.0, 8.0, 7.0, 6.0, 5.0, 4.0, 3.0, 2.0, 1.0, -2.2552, -2.2552, -2.2552, -2.9434, -2.9434, -2.9434, -2.9434, -2.9434, -2.9434, -2.9434, -2.9434, -2.9434, -2.9434, -2.9434, -2.9434, -2.9434, -7.5585, -1.1438, -1.1438, -1.1438, -5.7589, -5.7589, -5.7589, -5.7589, -5.7589, -5.7589, -5.7589, -5.7589, -5.7589, -5.7589, -5.7589, -5.7589, -5.7589, -5.7589], \"loglift\": [17.0, 16.0, 15.0, 14.0, 13.0, 12.0, 11.0, 10.0, 9.0, 8.0, 7.0, 6.0, 5.0, 4.0, 3.0, 2.0, 1.0, 0.1434, 0.1434, 0.1434, 0.1387, 0.1387, 0.1387, 0.1387, 0.1387, 0.1387, 0.1387, 0.1387, 0.1387, 0.1387, 0.1387, -0.5278, -0.5278, -4.4424, 1.9723, 1.2719, 1.2719, -2.6768, -2.6768, -2.6768, -2.6768, -2.6768, -2.6768, -2.6768, -2.6768, -2.6768, -2.6768, -2.6768, -3.3603, -3.3603, -3.3603]}, \"token.table\": {\"Topic\": [1, 1, 1, 1, 2, 1, 2, 1, 1, 1, 2, 1, 1, 1, 1, 1, 1, 1, 1], \"Freq\": [0.9910551405076936, 1.0006994803036127, 0.9910550710971461, 1.0006994803036127, 1.0253715006573048, 0.5089503785437525, 0.5089503785437525, 0.9910551405076936, 0.9910551405076936, 0.5089503785437525, 0.5089503785437525, 0.9910551405076936, 0.9910551405076936, 1.0006994803036127, 0.9910551405076936, 0.9910551405076936, 0.9910550710971461, 0.9910550710971461, 0.9910551405076936], \"Term\": [\"adopt\", \"banana\", \"breakfast\", \"broccoli\", \"chinchilla\", \"cute\", \"cute\", \"eat\", \"hamster\", \"kitten\", \"kitten\", \"like\", \"look\", \"munch\", \"piece\", \"sister\", \"smoothie\", \"spinach\", \"yesterday\"]}, \"R\": 17, \"lambda.step\": 0.01, \"plot.opts\": {\"xlab\": \"PC1\", \"ylab\": \"PC2\"}, \"topic.order\": [1, 2]};\n",
              "\n",
              "function LDAvis_load_lib(url, callback){\n",
              "  var s = document.createElement('script');\n",
              "  s.src = url;\n",
              "  s.async = true;\n",
              "  s.onreadystatechange = s.onload = callback;\n",
              "  s.onerror = function(){console.warn(\"failed to load library \" + url);};\n",
              "  document.getElementsByTagName(\"head\")[0].appendChild(s);\n",
              "}\n",
              "\n",
              "if(typeof(LDAvis) !== \"undefined\"){\n",
              "   // already loaded: just create the visualization\n",
              "   !function(LDAvis){\n",
              "       new LDAvis(\"#\" + \"ldavis_el23352234180118825675515699\", ldavis_el23352234180118825675515699_data);\n",
              "   }(LDAvis);\n",
              "}else if(typeof define === \"function\" && define.amd){\n",
              "   // require.js is available: use it to load d3/LDAvis\n",
              "   require.config({paths: {d3: \"https://d3js.org/d3.v5\"}});\n",
              "   require([\"d3\"], function(d3){\n",
              "      window.d3 = d3;\n",
              "      LDAvis_load_lib(\"https://cdn.jsdelivr.net/gh/bmabey/pyLDAvis@3.3.1/pyLDAvis/js/ldavis.v3.0.0.js\", function(){\n",
              "        new LDAvis(\"#\" + \"ldavis_el23352234180118825675515699\", ldavis_el23352234180118825675515699_data);\n",
              "      });\n",
              "    });\n",
              "}else{\n",
              "    // require.js not available: dynamically load d3 & LDAvis\n",
              "    LDAvis_load_lib(\"https://d3js.org/d3.v5.js\", function(){\n",
              "         LDAvis_load_lib(\"https://cdn.jsdelivr.net/gh/bmabey/pyLDAvis@3.3.1/pyLDAvis/js/ldavis.v3.0.0.js\", function(){\n",
              "                 new LDAvis(\"#\" + \"ldavis_el23352234180118825675515699\", ldavis_el23352234180118825675515699_data);\n",
              "            })\n",
              "         });\n",
              "}\n",
              "</script>"
            ],
            "text/plain": [
              "<IPython.core.display.HTML object>"
            ]
          },
          "execution_count": 21,
          "metadata": {},
          "output_type": "execute_result"
        }
      ],
      "source": [
        "pyLDAvis.display(vis)"
      ]
    },
    {
      "cell_type": "code",
      "execution_count": null,
      "metadata": {
        "id": "T0qDCZ-0-VEK"
      },
      "outputs": [],
      "source": []
    },
    {
      "cell_type": "markdown",
      "metadata": {
        "id": "_UPkR68G-2r2"
      },
      "source": [
        "## Next exercise: Please apply to review data\n",
        "\n",
        "Until 15:15h\n",
        "amzon review data\n",
        "\n",
        "> `<PandasDataFrame>.tolist()`\n",
        "\n",
        "> `','.join(<PandasDataFrame>.tolist())`"
      ]
    },
    {
      "cell_type": "code",
      "execution_count": null,
      "metadata": {
        "id": "wTPvEp42-497"
      },
      "outputs": [],
      "source": []
    }
  ],
  "metadata": {
    "colab": {
      "collapsed_sections": [],
      "provenance": []
    },
    "kernelspec": {
      "display_name": "Python 3.9.7 ('base')",
      "language": "python",
      "name": "python3"
    },
    "language_info": {
      "codemirror_mode": {
        "name": "ipython",
        "version": 3
      },
      "file_extension": ".py",
      "mimetype": "text/x-python",
      "name": "python",
      "nbconvert_exporter": "python",
      "pygments_lexer": "ipython3",
      "version": "3.9.7"
    },
    "vscode": {
      "interpreter": {
        "hash": "ad2bdc8ecc057115af97d19610ffacc2b4e99fae6737bb82f5d7fb13d2f2c186"
      }
    }
  },
  "nbformat": 4,
  "nbformat_minor": 0
}
