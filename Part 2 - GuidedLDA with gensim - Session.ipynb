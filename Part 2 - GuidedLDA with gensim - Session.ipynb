{
 "cells": [
  {
   "cell_type": "markdown",
   "metadata": {
    "id": "Pg7-UNISH-vy"
   },
   "source": [
    "# GuidedLDA in Python with `gensim`: Basics "
   ]
  },
  {
   "cell_type": "markdown",
   "metadata": {},
   "source": [
    "## Parts\n",
    "- LDA in Python with `gensim`: Basics **[Notebook 1]**\n",
    "- GuidedLDA in Python with `gensim`: Basics **[Notebook 2]**\n",
    "  \n",
    "  \n",
    "## Content\n",
    "- References, Modules etc.\n",
    "- GuidedLDA: Simple Example\n",
    "- GuidedLDA: Prior Distribution: Modification and Impact\n",
    "- Exercise\n",
    "   \n",
    "   \n",
    "## References\n",
    "- `gensim` is used here: https://radimrehurek.com/gensim/ and https://pypi.org/project/gensim/ \n",
    "- An alternative is to use `lda` and `guidedlda`; Unfortunately, `guidedlda` has installation issues. There is a workaround - ask MG for more information; "
   ]
  },
  {
   "cell_type": "markdown",
   "metadata": {
    "id": "KgiKaM5AOFiO"
   },
   "source": [
    "# Modules"
   ]
  },
  {
   "cell_type": "code",
   "execution_count": 1,
   "metadata": {
    "colab": {
     "base_uri": "https://localhost:8080/",
     "height": 35
    },
    "id": "pZwcpNhUL2nJ",
    "outputId": "b1622898-391e-411b-901a-4b196fe91c6a"
   },
   "outputs": [],
   "source": [
    "import warnings\n",
    "warnings.filterwarnings(action='ignore', category=UserWarning)\n",
    "import gensim\n",
    "import numpy as np\n",
    "import nltk\n",
    "from nltk.corpus import stopwords\n",
    "from nltk.stem import WordNetLemmatizer\n",
    "import matplotlib.pyplot as plt\n",
    "%matplotlib inline"
   ]
  },
  {
   "cell_type": "markdown",
   "metadata": {
    "id": "_6SqLWEmWbCj"
   },
   "source": [
    "# GuidedLDA with gensim\n",
    "*Build an guided LDA model in gensim with seed words*\n",
    "\n",
    "One of the language model frameworks that are included in the gensim-package is the already used `Latent Dirichlet Allocation (LDA) topic modeling framework`. LDA can be used as an **unsupervised learning method** in which **topics are identified based on word co-occurrence probabilities**;   \n",
    "\n",
    "seeded or guided lda: with the implementation of LDA included in the gensim package we can also **seed terms with topic probabilities**. This turns a fully-unsupervized training method into a **semi-supervized training method**. **Semi-supervised** because we are not tagging all terms or documents with topic probabilities, just a few, but it turns out that's enough to **push the model in a certain direction**."
   ]
  },
  {
   "cell_type": "markdown",
   "metadata": {
    "id": "cCAYftm2WuFs"
   },
   "source": [
    "## nltk: Download additional subpackages  \n",
    "  \n",
    "There are a couple of additional subpackages that nltk requires to use the POS tagging feature and the WordNet model. We have to make sure those are downloaded."
   ]
  },
  {
   "cell_type": "code",
   "execution_count": 2,
   "metadata": {
    "id": "_gw3trzQWrgs"
   },
   "outputs": [],
   "source": [
    "# Uncomment first\n",
    "#nltk.download('averaged_perceptron_tagger')\n",
    "#nltk.download('wordnet')\n",
    "#nltk.download('stopwords')\n",
    "#nltk.download('omw-1.4')"
   ]
  },
  {
   "cell_type": "markdown",
   "metadata": {
    "id": "ZKtjwXsoW14o"
   },
   "source": [
    "## Generate some sample text  \n",
    "  \n",
    "A simple corpus of text strings to work with: \n",
    "- First two seem to relate to food\n",
    "- the next two to animals and \n",
    "- the last one a bit of both."
   ]
  },
  {
   "cell_type": "code",
   "execution_count": 3,
   "metadata": {
    "colab": {
     "base_uri": "https://localhost:8080/"
    },
    "id": "gQQnYryRWxsO",
    "outputId": "4e3f7b41-5858-4b52-8d6f-66d89eaef43a"
   },
   "outputs": [
    {
     "data": {
      "text/plain": [
       "5"
      ]
     },
     "execution_count": 3,
     "metadata": {},
     "output_type": "execute_result"
    }
   ],
   "source": [
    "txt = [\n",
    "    'I like to eat broccoli and bananas.',\n",
    "    'I munched a banana and spinach smoothie for breakfast.',\n",
    "    'Chinchillas and kittens are cute.',\n",
    "    'My sister adopted a kitten yesterday.',\n",
    "    'Look at this cute hamster munching on a piece of broccoli.'\n",
    "]\n",
    "len(txt)"
   ]
  },
  {
   "cell_type": "markdown",
   "metadata": {
    "id": "nb0bN-ihXAnk"
   },
   "source": [
    "## Preprocessing text strings\n",
    "\n",
    "The first step in most language processing analytics is preprocessing the text strings. We will be running the following on the text:\n",
    "- `gensim.simple_preprocess` - does a bunch of pre-processing steps such as tokenizing, removing punctuation and converting to lower case\n",
    "- lemmatization - turning a word into its base form, e.g. 'shaving' -> 'shave' (note this is not the same thing as stemming, which would turn 'shaving' to 'shav')\n",
    "  \n",
    "In order to perform the lemmatization, we use the WordNet language model provided through the nltk package. The WordNetLemmatizer.lemmatize() function takes a part-of-speech tag to tell it whether we're passing a noun, verb, adjective or adverb. This makes a difference for example 'shaving' could either be used as a verb, however it could also be used as a noun, as in \"wood shaving\". If we were to pass 'shaving' and indicate that it's a noun the lemmatization function would need to leave it alone since it's already in its base form. As a verb, however that would need to translate to 'shave'.\n",
    "To identify what part-of-speech any particular word is, is not easy, but nltk again comes to the rescue providing access to a part-of-speech tagger which returns a suitable tag for each word in a given text.    \n",
    "  \n",
    "**Too complicated...:** The twist is that the nltk.pos_tag function returns the Penn Treebank tag for the word but we just want whether the word is a noun, verb, adjective or adverb. We need a short simplification routine to translate from the Penn tag to a simpler tag."
   ]
  },
  {
   "cell_type": "code",
   "execution_count": 4,
   "metadata": {
    "id": "MR3gFtNsW-yg"
   },
   "outputs": [],
   "source": [
    "# simplify Penn tags to n (NOUN), v (VERB), a (ADJECTIVE) or r (ADVERB)\n",
    "def simplify(penn_tag):\n",
    "    pre = penn_tag[0]\n",
    "    if (pre == 'J'):\n",
    "        return 'a'\n",
    "    elif (pre == 'R'):\n",
    "        return 'r'\n",
    "    elif (pre == 'V'):\n",
    "        return 'v'\n",
    "    else:\n",
    "        return 'n'"
   ]
  },
  {
   "cell_type": "markdown",
   "metadata": {
    "id": "uq7gnZ-JXVIb"
   },
   "source": [
    "### Perform some simple preprocessing on the text:"
   ]
  },
  {
   "cell_type": "code",
   "execution_count": 5,
   "metadata": {
    "id": "RTpJNmZ3XQ87"
   },
   "outputs": [],
   "source": [
    "# define function preprocess(text):\n",
    "# gensim provides some basic preprocessing steps\n",
    "def preprocess(text, language='english'):\n",
    "    stop_words = stopwords.words(language) # stopwords from nltk\n",
    "    toks = gensim.utils.simple_preprocess(str(text), deacc=True) # gensim\n",
    "    wn = WordNetLemmatizer() # from nltk\n",
    "    # return\n",
    "    return [wn.lemmatize(tok, simplify(pos)) for tok, pos in nltk.pos_tag(toks) if tok not in stop_words]"
   ]
  },
  {
   "cell_type": "code",
   "execution_count": 6,
   "metadata": {},
   "outputs": [
    {
     "data": {
      "text/plain": [
       "['i', 'me', 'my', 'myself', 'we']"
      ]
     },
     "execution_count": 6,
     "metadata": {},
     "output_type": "execute_result"
    }
   ],
   "source": [
    "# print some stopwords\n",
    "# English language\n",
    "stopwords.words('english')[0:5]"
   ]
  },
  {
   "cell_type": "code",
   "execution_count": 7,
   "metadata": {
    "colab": {
     "base_uri": "https://localhost:8080/"
    },
    "id": "17p2LCnYXW40",
    "outputId": "0bfe6e69-b82c-4e16-bcfd-1c9ff1c99b73"
   },
   "outputs": [
    {
     "data": {
      "text/plain": [
       "[['like', 'eat', 'broccoli', 'banana'],\n",
       " ['munch', 'banana', 'spinach', 'smoothie', 'breakfast'],\n",
       " ['chinchilla', 'kitten', 'cute'],\n",
       " ['sister', 'adopt', 'kitten', 'yesterday'],\n",
       " ['look', 'cute', 'hamster', 'munch', 'piece', 'broccoli']]"
      ]
     },
     "execution_count": 7,
     "metadata": {},
     "output_type": "execute_result"
    }
   ],
   "source": [
    "# Apply function to input text (which is a simple list!)\n",
    "corp = [preprocess(line, language='english') for line in txt]\n",
    "corp"
   ]
  },
  {
   "cell_type": "markdown",
   "metadata": {
    "id": "hNiqy2m5Xala"
   },
   "source": [
    "As you can see words have been translated to their base form and converted to lower case. Another step that we performed is omitting 'stop words' like 'this', 'on', 'are', which don't contribute much to the topic probability."
   ]
  },
  {
   "cell_type": "code",
   "execution_count": 8,
   "metadata": {
    "colab": {
     "base_uri": "https://localhost:8080/"
    },
    "id": "HvcFRDIXXYe4",
    "outputId": "ad8b08e1-838b-42f8-9650-82a74623a711"
   },
   "outputs": [
    {
     "data": {
      "text/plain": [
       "17"
      ]
     },
     "execution_count": 8,
     "metadata": {},
     "output_type": "execute_result"
    }
   ],
   "source": [
    "# build dictionary with gensim\n",
    "dictionary = gensim.corpora.Dictionary(corp) # gensim\n",
    "len(dictionary)"
   ]
  },
  {
   "cell_type": "markdown",
   "metadata": {
    "id": "fqhdWDAUXecs"
   },
   "source": [
    "We have a vocabulary of 17 words after removing stop words."
   ]
  },
  {
   "cell_type": "markdown",
   "metadata": {
    "id": "AWudRhZhXhPK"
   },
   "source": [
    "### Convert into bag of words-format  \n",
    "  \n",
    "The LDA algorithm implementation in gensim reads the strings in a 'bag of words' format. This structure lists each distinct word in the sentence once, along with the number of times it occurs in the sentence. The gensim dictionary conveniently provides the doc2bow function that converts a line into its respective 'bow' format."
   ]
  },
  {
   "cell_type": "code",
   "execution_count": 9,
   "metadata": {
    "colab": {
     "base_uri": "https://localhost:8080/"
    },
    "id": "rYG4puczXcg3",
    "outputId": "c987fcdd-d3e0-4e91-c1e1-b8a07fb5cd21"
   },
   "outputs": [
    {
     "data": {
      "text/plain": [
       "[[(0, 1), (1, 1), (2, 1), (3, 1)],\n",
       " [(0, 1), (4, 1), (5, 1), (6, 1), (7, 1)],\n",
       " [(8, 1), (9, 1), (10, 1)],\n",
       " [(10, 1), (11, 1), (12, 1), (13, 1)],\n",
       " [(1, 1), (5, 1), (9, 1), (14, 1), (15, 1), (16, 1)]]"
      ]
     },
     "execution_count": 9,
     "metadata": {},
     "output_type": "execute_result"
    }
   ],
   "source": [
    "# Convert into bag-of-words format\n",
    "bow = [dictionary.doc2bow(line) for line in corp]\n",
    "bow"
   ]
  },
  {
   "cell_type": "markdown",
   "metadata": {
    "id": "kzPssop4Xo8D"
   },
   "source": [
    "## lda with gensim\n",
    "   \n",
    "The model parameter that tracks how words are allocated to terms is called eta in the gensim implementation. When not provided, or provided as the keyword 'auto', gensim presupposes an even distribution across terms and topics. The question we need to ask is, if we provide a non-uniform matrix as the eta parameter, does that affect the topic distribution assigned to terms and documents?\n",
    "   \n",
    "To find out, we'll first train a topic model on the corpus of sentences we set up, using the 'auto' keyword. We will then train a model using a prior distribution skewed in the same direction as the auto-generated model, just for fun, and then train another model using a prior distribution to try to push the model in the opposite direction.\n",
    "\n",
    "We'll set up a function that displays the probability distribution calculated by the algorithm so that we can see how the topics have been allocated across terms.\n"
   ]
  },
  {
   "cell_type": "code",
   "execution_count": 10,
   "metadata": {
    "id": "I7GmxEWxXmDa"
   },
   "outputs": [],
   "source": [
    "def viz_model(model, modeldict):\n",
    "    ntopics = model.num_topics\n",
    "    # top words associated with the resulting topics\n",
    "    topics = ['Topic {}: {}'.format(t,modeldict[w]) for t in range(ntopics) for w,p in model.get_topic_terms(t, topn=1)]\n",
    "    terms = [modeldict[w] for w in modeldict.keys()]\n",
    "    fig,ax=plt.subplots()\n",
    "    ax.imshow(model.get_topics())  # plot the numpy matrix\n",
    "    ax.set_xticks(modeldict.keys())  # set up the x-axis\n",
    "    ax.set_xticklabels(terms, rotation=90)\n",
    "    ax.set_yticks(np.arange(ntopics))  # set up the y-axis\n",
    "    ax.set_yticklabels(topics)\n",
    "    plt.show()"
   ]
  },
  {
   "cell_type": "markdown",
   "metadata": {
    "id": "DXylfBYeX1ri"
   },
   "source": [
    "We will run the following function for each test. Train a model with our prior distribution (or 'auto'), plot the model, print out the topic distribution and show the topic allocation for our corpus."
   ]
  },
  {
   "cell_type": "code",
   "execution_count": 11,
   "metadata": {
    "id": "tnrRsO1jX0UW"
   },
   "outputs": [],
   "source": [
    "def test_eta(eta, dictionary, ntopics, print_topics=True, print_dist=True):\n",
    "    np.random.seed(42) # set the random seed for repeatability\n",
    "    bow = [dictionary.doc2bow(line) for line in corp] # get the bow-format lines with the set dictionary\n",
    "    with (np.errstate(divide='ignore')):  # ignore divide-by-zero warnings\n",
    "        model = gensim.models.ldamodel.LdaModel(\n",
    "            corpus=bow, id2word=dictionary, num_topics=ntopics,\n",
    "            random_state=42, chunksize=100, eta=eta,\n",
    "            eval_every=-1, update_every=1,\n",
    "            passes=150, alpha='auto', per_word_topics=True)\n",
    "    # visuzlize the model term topics\n",
    "    viz_model(model, dictionary)\n",
    "    print('Perplexity: {:.2f}'.format(model.log_perplexity(bow)))\n",
    "    if print_topics:\n",
    "        # display the top terms for each topic\n",
    "        for topic in range(ntopics):\n",
    "            print('Topic {}: {}'.format(topic, [dictionary[w] for w,p in model.get_topic_terms(topic, topn=3)]))\n",
    "    if print_dist:\n",
    "        # display the topic probabilities for each document\n",
    "        for line,bag in zip(txt,bow):\n",
    "            doc_topics = ['({}, {:.1%})'.format(topic, prob) for topic,prob in model.get_document_topics(bag)]\n",
    "            print('{} {}'.format(line, doc_topics))\n",
    "    return model"
   ]
  },
  {
   "cell_type": "markdown",
   "metadata": {
    "id": "COv7iMIiX6lx"
   },
   "source": [
    "Before we try a custom prior distribution, let's see how the model does with the default setting, i.e. 'auto'."
   ]
  },
  {
   "cell_type": "code",
   "execution_count": 13,
   "metadata": {
    "colab": {
     "base_uri": "https://localhost:8080/",
     "height": 287
    },
    "id": "vcIPF1OIX4ir",
    "outputId": "8b62a396-737e-46a2-a54b-775b2bf25b15"
   },
   "outputs": [
    {
     "data": {
      "image/png": "[encoded data removed]",
      "text/plain": [
       "<Figure size 640x480 with 1 Axes>"
      ]
     },
     "metadata": {},
     "output_type": "display_data"
    },
    {
     "name": "stdout",
     "output_type": "stream",
     "text": [
      "Perplexity: -3.23\n",
      "Topic 0: ['banana', 'like', 'smoothie']\n",
      "Topic 1: ['kitten', 'cute', 'adopt']\n",
      "I like to eat broccoli and bananas. ['(0, 99.1%)']\n",
      "I munched a banana and spinach smoothie for breakfast. ['(0, 99.3%)']\n",
      "Chinchillas and kittens are cute. ['(1, 99.2%)']\n",
      "My sister adopted a kitten yesterday. ['(1, 99.4%)']\n",
      "Look at this cute hamster munching on a piece of broccoli. ['(1, 99.6%)']\n"
     ]
    },
    {
     "data": {
      "text/plain": [
       "<gensim.models.ldamodel.LdaModel at 0x186551dd430>"
      ]
     },
     "execution_count": 13,
     "metadata": {},
     "output_type": "execute_result"
    }
   ],
   "source": [
    "test_eta(\"auto\", dictionary, ntopics=2)"
   ]
  },
  {
   "cell_type": "code",
   "execution_count": 14,
   "metadata": {},
   "outputs": [
    {
     "data": {
      "image/png": "[encoded data removed]",
      "text/plain": [
       "<Figure size 640x480 with 1 Axes>"
      ]
     },
     "metadata": {},
     "output_type": "display_data"
    },
    {
     "name": "stdout",
     "output_type": "stream",
     "text": [
      "Perplexity: -1.17\n",
      "Topic 0: ['kitten', 'cute', 'chinchilla']\n",
      "Topic 1: ['banana', 'munch', 'broccoli']\n",
      "I like to eat broccoli and bananas. ['(0, 4.1%)', '(1, 95.9%)']\n",
      "I munched a banana and spinach smoothie for breakfast. ['(0, 3.3%)', '(1, 96.7%)']\n",
      "Chinchillas and kittens are cute. ['(0, 94.6%)', '(1, 5.4%)']\n",
      "My sister adopted a kitten yesterday. ['(0, 95.8%)', '(1, 4.2%)']\n",
      "Look at this cute hamster munching on a piece of broccoli. ['(0, 50.0%)', '(1, 50.0%)']\n"
     ]
    },
    {
     "data": {
      "text/plain": [
       "<gensim.models.ldamodel.LdaModel at 0x18655454f10>"
      ]
     },
     "execution_count": 14,
     "metadata": {},
     "output_type": "execute_result"
    }
   ],
   "source": [
    "apriori_harder = {\n",
    "    'cute':0, 'kitten':0, 'hamster':0, 'chinchilla':0, 'look':0,\n",
    "    'banana':1, 'broccoli':1, 'piece':1, 'breakfast':1, 'munch':1\n",
    "}\n",
    "eta = create_eta(apriori_harder, dictionary, 2)\n",
    "test_eta(eta, dictionary, 2)\n"
   ]
  },
  {
   "cell_type": "markdown",
   "metadata": {
    "id": "XuNiaOUuYpXa"
   },
   "source": [
    "If you run this several time (you can delete the model prio to it), then you will get different results:\n",
    "- the first two and the next two as separate topics, \n",
    "- but it fails to identify that the last sentence contains elements of both topics."
   ]
  },
  {
   "cell_type": "markdown",
   "metadata": {
    "id": "5UDCVZHXY5UM"
   },
   "source": [
    "## Define a prior distribution\n",
    "  \n",
    "To define a prior distribution, we need to create a numpy matrix with the same number of rows and columns as topics and terms, respectively. We then populate that matrix with our prior distribution. To do this we pre-populate all the matrix elements with 1, then with a really high number for the elements that correspond to our 'guided' term-topic distribution."
   ]
  },
  {
   "cell_type": "code",
   "execution_count": 12,
   "metadata": {
    "id": "CkCouDQYX86l"
   },
   "outputs": [],
   "source": [
    "def create_eta(priors, etadict, ntopics):\n",
    "    eta = np.full(shape=(ntopics, len(etadict)), fill_value=1) # create a (ntopics, nterms) matrix and fill with 1\n",
    "    for word, topic in priors.items(): # for each word in the list of priors\n",
    "        keyindex = [index for index,term in etadict.items() if term==word] # look up the word in the dictionary\n",
    "        if (len(keyindex)>0): # if it's in the dictionary\n",
    "            eta[topic,keyindex[0]] = 1e7  # put a large number in there\n",
    "    eta = np.divide(eta, eta.sum(axis=0)) # normalize so that the probabilities sum to 1 over all topics\n",
    "    return eta"
   ]
  },
  {
   "cell_type": "markdown",
   "metadata": {
    "id": "IVD8et7MY_qq"
   },
   "source": [
    "Let's start with a list that uses the same topic words."
   ]
  },
  {
   "cell_type": "code",
   "execution_count": null,
   "metadata": {
    "colab": {
     "base_uri": "https://localhost:8080/",
     "height": 287
    },
    "id": "4F9Nq6xaY8bH",
    "outputId": "bc6862a6-035d-4bfc-842c-256c5775038c"
   },
   "outputs": [],
   "source": [
    "\n",
    "\n",
    "\n"
   ]
  },
  {
   "cell_type": "markdown",
   "metadata": {
    "id": "gGFTnjh6ZITb"
   },
   "source": [
    "When we guide the distribution to allocate a few words towards the 'foody' topic and others towards the 'animaly' topic, we actually get a more pronounced distribution in the same topic allocation direction, and we even get more probability assiged to both topics for the last sentence."
   ]
  },
  {
   "cell_type": "code",
   "execution_count": null,
   "metadata": {
    "colab": {
     "base_uri": "https://localhost:8080/",
     "height": 287
    },
    "id": "Ubu84AmfZBT5",
    "outputId": "29f41e17-950e-4590-da01-357744468f52"
   },
   "outputs": [],
   "source": [
    "\n",
    "\n",
    "\n",
    "\n"
   ]
  },
  {
   "cell_type": "markdown",
   "metadata": {
    "id": "IK7zn7ILZOS9"
   },
   "source": [
    "Success! We've pushed the model in the opposite direction. Terms that were previously assigned to topic 0 are now topic 1, and vice-versa. However it looks like the model struggled with this a bit! The distribution is not as clear-cut. What if we push a little harder?"
   ]
  },
  {
   "cell_type": "code",
   "execution_count": null,
   "metadata": {
    "colab": {
     "base_uri": "https://localhost:8080/",
     "height": 287
    },
    "id": "A0uUukepZKWM",
    "outputId": "aa1ac5eb-1c77-464a-bd8d-731f1a504fa7"
   },
   "outputs": [],
   "source": [
    "\n",
    "\n",
    "\n",
    "\n"
   ]
  },
  {
   "cell_type": "markdown",
   "metadata": {
    "id": "4MTXKf_ZZSmN"
   },
   "source": [
    "Clearly marking additional terms as associated with topics has provided more polarization to the model.\n",
    "\n",
    "We have seen that by providing a prior term-topic distribution to the model we can guide the LDA towards a useful topic model.\n",
    "\n",
    "However I have one last question. Since the LDA training algorithm is iterative in nature, does the order of the words in the dictionary have an effect on the result? Let's find out. First let's take a look at the dictionary we have right now."
   ]
  },
  {
   "cell_type": "code",
   "execution_count": null,
   "metadata": {
    "colab": {
     "base_uri": "https://localhost:8080/"
    },
    "id": "CZcSypJOZP67",
    "outputId": "3d41f5fd-0557-49fa-919d-eb00701c7bad"
   },
   "outputs": [],
   "source": []
  },
  {
   "cell_type": "markdown",
   "metadata": {
    "id": "yUcjD_8rZVgp"
   },
   "source": [
    "Let's create a new one with a different word ordering."
   ]
  },
  {
   "cell_type": "code",
   "execution_count": null,
   "metadata": {
    "colab": {
     "base_uri": "https://localhost:8080/"
    },
    "id": "hyU7E0ItZUqI",
    "outputId": "220e66cb-efcf-4aef-ae20-b0c70901a5bc"
   },
   "outputs": [],
   "source": [
    "\n",
    "\n",
    "\n"
   ]
  },
  {
   "cell_type": "code",
   "execution_count": null,
   "metadata": {
    "colab": {
     "base_uri": "https://localhost:8080/",
     "height": 539
    },
    "id": "9KTudZEnZZXu",
    "outputId": "352f2614-a2ea-49fb-8b6b-39ca368ffb1f"
   },
   "outputs": [],
   "source": [
    "\n",
    "\n",
    "\n"
   ]
  },
  {
   "cell_type": "markdown",
   "metadata": {
    "id": "67cjRH19Zd4X"
   },
   "source": [
    "While there are minor differences in the ordering of the topic terms and the document topic probabilities, the two models are almost identical."
   ]
  },
  {
   "cell_type": "markdown",
   "metadata": {
    "id": "kcapMd9oaWMr"
   },
   "source": [
    "## Exercise: LDA / Guided LDA\n",
    "    \n",
    "**Preliminary information:**  \n",
    "Some sample data\n",
    "`txt = ['Very happy with these panels, well made, durable, and a great value. ', 'The panels are a good price, very well made, and last. ', 'The wattage ratings that you THINK you will be getting, are NOT going to be, what you're ACTUALLY getting.', 'Z-Brackets do not work. Solar panel glass fell apart from frame. Poor quality.', 'It's performance was.... lacking. Even in direct sunlight on a clear day I was seeing 63 watts from the panel at it's highest. It was normally under 50w. Not even close to the 100w claimed output.', 'Happy']`\n",
    "\n",
    "**Please read the instruction carefully!!**\n",
    "- Run a LDA\n",
    "- If results are not clear, run a guided LDA\n",
    "- Check the resuls"
   ]
  },
  {
   "cell_type": "code",
   "execution_count": 17,
   "metadata": {},
   "outputs": [
    {
     "ename": "SyntaxError",
     "evalue": "invalid syntax (3980067462.py, line 1)",
     "output_type": "error",
     "traceback": [
      "\u001b[1;36m  Cell \u001b[1;32mIn [17], line 1\u001b[1;36m\u001b[0m\n\u001b[1;33m    text = ['Very happy with these panels, well made, durable, and a great value. ', 'The panels are a good price, very well made, and last. ', 'The wattage ratings that you THINK you will be getting, are NOT going to be, what you're ACTUALLY getting.', 'Z-Brackets do not work. Solar panel glass fell apart from frame. Poor quality.', 'It's performance was.... lacking. Even in direct sunlight on a clear day I was seeing 63 watts from the panel at it's highest. \"It was normally under 50w.\" Not even close to the 100w claimed output.', 'Happy']\u001b[0m\n\u001b[1;37m                                                                                                                                                                                                                                       ^\u001b[0m\n\u001b[1;31mSyntaxError\u001b[0m\u001b[1;31m:\u001b[0m invalid syntax\n"
     ]
    }
   ],
   "source": [
    "text = ['Very happy with these panels, well made, durable, and a great value. ', 'The panels are a good price, very well made, and last. ', 'The wattage ratings that you THINK you will be getting, are NOT going to be, what you're ACTUALLY getting.', 'Z-Brackets do not work. Solar panel glass fell apart from frame. Poor quality.', 'It's performance was.... lacking. Even in direct sunlight on a clear day I was seeing 63 watts from the panel at it's highest. \"It was normally under 50w.\" Not even close to the 100w claimed output.', 'Happy']"
   ]
  }
 ],
 "metadata": {
  "colab": {
   "collapsed_sections": [
    "llHfJ5BUaqPE",
    "BjqWlqx7aqPZ",
    "FUC815Up2FG_"
   ],
   "provenance": []
  },
  "kernelspec": {
   "display_name": "Python 3.9.7 ('base')",
   "language": "python",
   "name": "python3"
  },
  "language_info": {
   "codemirror_mode": {
    "name": "ipython",
    "version": 3
   },
   "file_extension": ".py",
   "mimetype": "text/x-python",
   "name": "python",
   "nbconvert_exporter": "python",
   "pygments_lexer": "ipython3",
   "version": "3.9.7"
  },
  "vscode": {
   "interpreter": {
    "hash": "ad2bdc8ecc057115af97d19610ffacc2b4e99fae6737bb82f5d7fb13d2f2c186"
   }
  }
 },
 "nbformat": 4,
 "nbformat_minor": 4
}
